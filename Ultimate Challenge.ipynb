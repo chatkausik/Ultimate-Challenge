{
 "cells": [
  {
   "cell_type": "markdown",
   "metadata": {},
   "source": [
    "# Part 1 ‑ Exploratory Data Analysis"
   ]
  },
  {
   "cell_type": "markdown",
   "metadata": {},
   "source": [
    "Instructions:\n",
    "\n",
    "The attached logins.json file contains (simulated) timestamps of user logins in a particular geographic location. \n",
    "\n",
    "1. Aggregate these login counts based on 15 minute time intervals, and visualize and describe the resulting time series of login counts in ways that best characterize the underlying patterns of the demand. \n",
    "\n",
    "2. Please report/illustrate important features of the demand, such as daily cycles. If there are data quality issues, please report them."
   ]
  },
  {
   "cell_type": "markdown",
   "metadata": {},
   "source": [
    "We use pandas and numpy to analyze our data. We use seaborn with matplotlib to visualize our data."
   ]
  },
  {
   "cell_type": "code",
   "execution_count": 1,
   "metadata": {
    "collapsed": true
   },
   "outputs": [],
   "source": [
    "# Import relevant packages\n",
    "import pandas as pd\n",
    "import numpy as np\n",
    "import seaborn as sns\n",
    "import matplotlib.pyplot as plt\n",
    "%matplotlib inline"
   ]
  },
  {
   "cell_type": "code",
   "execution_count": 2,
   "metadata": {},
   "outputs": [
    {
     "data": {
      "text/html": [
       "<div>\n",
       "<style>\n",
       "    .dataframe thead tr:only-child th {\n",
       "        text-align: right;\n",
       "    }\n",
       "\n",
       "    .dataframe thead th {\n",
       "        text-align: left;\n",
       "    }\n",
       "\n",
       "    .dataframe tbody tr th {\n",
       "        vertical-align: top;\n",
       "    }\n",
       "</style>\n",
       "<table border=\"1\" class=\"dataframe\">\n",
       "  <thead>\n",
       "    <tr style=\"text-align: right;\">\n",
       "      <th></th>\n",
       "      <th>login_time</th>\n",
       "    </tr>\n",
       "  </thead>\n",
       "  <tbody>\n",
       "    <tr>\n",
       "      <th>0</th>\n",
       "      <td>1970-01-01 20:13:18</td>\n",
       "    </tr>\n",
       "    <tr>\n",
       "      <th>1</th>\n",
       "      <td>1970-01-01 20:16:10</td>\n",
       "    </tr>\n",
       "    <tr>\n",
       "      <th>2</th>\n",
       "      <td>1970-01-01 20:16:37</td>\n",
       "    </tr>\n",
       "    <tr>\n",
       "      <th>3</th>\n",
       "      <td>1970-01-01 20:16:36</td>\n",
       "    </tr>\n",
       "    <tr>\n",
       "      <th>4</th>\n",
       "      <td>1970-01-01 20:26:21</td>\n",
       "    </tr>\n",
       "  </tbody>\n",
       "</table>\n",
       "</div>"
      ],
      "text/plain": [
       "           login_time\n",
       "0 1970-01-01 20:13:18\n",
       "1 1970-01-01 20:16:10\n",
       "2 1970-01-01 20:16:37\n",
       "3 1970-01-01 20:16:36\n",
       "4 1970-01-01 20:26:21"
      ]
     },
     "execution_count": 2,
     "metadata": {},
     "output_type": "execute_result"
    }
   ],
   "source": [
    "# Load json file into pandas dataframe\n",
    "logins_df = pd.read_json('logins.json')\n",
    "logins_df.head()"
   ]
  },
  {
   "cell_type": "markdown",
   "metadata": {},
   "source": [
    "We do a quick check on the description on the dataframe."
   ]
  },
  {
   "cell_type": "code",
   "execution_count": 3,
   "metadata": {},
   "outputs": [
    {
     "data": {
      "text/html": [
       "<div>\n",
       "<style>\n",
       "    .dataframe thead tr:only-child th {\n",
       "        text-align: right;\n",
       "    }\n",
       "\n",
       "    .dataframe thead th {\n",
       "        text-align: left;\n",
       "    }\n",
       "\n",
       "    .dataframe tbody tr th {\n",
       "        vertical-align: top;\n",
       "    }\n",
       "</style>\n",
       "<table border=\"1\" class=\"dataframe\">\n",
       "  <thead>\n",
       "    <tr style=\"text-align: right;\">\n",
       "      <th></th>\n",
       "      <th>login_time</th>\n",
       "    </tr>\n",
       "  </thead>\n",
       "  <tbody>\n",
       "    <tr>\n",
       "      <th>count</th>\n",
       "      <td>93142</td>\n",
       "    </tr>\n",
       "    <tr>\n",
       "      <th>unique</th>\n",
       "      <td>92265</td>\n",
       "    </tr>\n",
       "    <tr>\n",
       "      <th>top</th>\n",
       "      <td>1970-02-12 11:16:53</td>\n",
       "    </tr>\n",
       "    <tr>\n",
       "      <th>freq</th>\n",
       "      <td>3</td>\n",
       "    </tr>\n",
       "    <tr>\n",
       "      <th>first</th>\n",
       "      <td>1970-01-01 20:12:16</td>\n",
       "    </tr>\n",
       "    <tr>\n",
       "      <th>last</th>\n",
       "      <td>1970-04-13 18:57:38</td>\n",
       "    </tr>\n",
       "  </tbody>\n",
       "</table>\n",
       "</div>"
      ],
      "text/plain": [
       "                 login_time\n",
       "count                 93142\n",
       "unique                92265\n",
       "top     1970-02-12 11:16:53\n",
       "freq                      3\n",
       "first   1970-01-01 20:12:16\n",
       "last    1970-04-13 18:57:38"
      ]
     },
     "execution_count": 3,
     "metadata": {},
     "output_type": "execute_result"
    }
   ],
   "source": [
    "# Checking dataframe\n",
    "logins_df.describe()"
   ]
  },
  {
   "cell_type": "markdown",
   "metadata": {},
   "source": [
    "For the dataframe information, there seems to be no missing or null values, this saves us some time!"
   ]
  },
  {
   "cell_type": "code",
   "execution_count": 4,
   "metadata": {},
   "outputs": [
    {
     "name": "stdout",
     "output_type": "stream",
     "text": [
      "<class 'pandas.core.frame.DataFrame'>\n",
      "RangeIndex: 93142 entries, 0 to 93141\n",
      "Data columns (total 1 columns):\n",
      "login_time    93142 non-null datetime64[ns]\n",
      "dtypes: datetime64[ns](1)\n",
      "memory usage: 727.8 KB\n"
     ]
    }
   ],
   "source": [
    "# Checking dataframe\n",
    "logins_df.info()"
   ]
  },
  {
   "cell_type": "markdown",
   "metadata": {},
   "source": [
    "Time to do some time series! We lockdown the 'login_time' data so we can split it into 15-min intervals."
   ]
  },
  {
   "cell_type": "code",
   "execution_count": 5,
   "metadata": {},
   "outputs": [
    {
     "data": {
      "text/html": [
       "<div>\n",
       "<style>\n",
       "    .dataframe thead tr:only-child th {\n",
       "        text-align: right;\n",
       "    }\n",
       "\n",
       "    .dataframe thead th {\n",
       "        text-align: left;\n",
       "    }\n",
       "\n",
       "    .dataframe tbody tr th {\n",
       "        vertical-align: top;\n",
       "    }\n",
       "</style>\n",
       "<table border=\"1\" class=\"dataframe\">\n",
       "  <thead>\n",
       "    <tr style=\"text-align: right;\">\n",
       "      <th></th>\n",
       "    </tr>\n",
       "    <tr>\n",
       "      <th>login_time</th>\n",
       "    </tr>\n",
       "  </thead>\n",
       "  <tbody>\n",
       "    <tr>\n",
       "      <th>1970-01-01 20:13:18</th>\n",
       "    </tr>\n",
       "    <tr>\n",
       "      <th>1970-01-01 20:16:10</th>\n",
       "    </tr>\n",
       "    <tr>\n",
       "      <th>1970-01-01 20:16:37</th>\n",
       "    </tr>\n",
       "    <tr>\n",
       "      <th>1970-01-01 20:16:36</th>\n",
       "    </tr>\n",
       "    <tr>\n",
       "      <th>1970-01-01 20:26:21</th>\n",
       "    </tr>\n",
       "  </tbody>\n",
       "</table>\n",
       "</div>"
      ],
      "text/plain": [
       "Empty DataFrame\n",
       "Columns: []\n",
       "Index: [1970-01-01 20:13:18, 1970-01-01 20:16:10, 1970-01-01 20:16:37, 1970-01-01 20:16:36, 1970-01-01 20:26:21]"
      ]
     },
     "execution_count": 5,
     "metadata": {},
     "output_type": "execute_result"
    }
   ],
   "source": [
    "# Setting the index to be 'login_time'\n",
    "indexed_logins_df = logins_df.set_index(['login_time'])\n",
    "indexed_logins_df.head()"
   ]
  },
  {
   "cell_type": "code",
   "execution_count": 6,
   "metadata": {},
   "outputs": [
    {
     "data": {
      "text/html": [
       "<div>\n",
       "<style>\n",
       "    .dataframe thead tr:only-child th {\n",
       "        text-align: right;\n",
       "    }\n",
       "\n",
       "    .dataframe thead th {\n",
       "        text-align: left;\n",
       "    }\n",
       "\n",
       "    .dataframe tbody tr th {\n",
       "        vertical-align: top;\n",
       "    }\n",
       "</style>\n",
       "<table border=\"1\" class=\"dataframe\">\n",
       "  <thead>\n",
       "    <tr style=\"text-align: right;\">\n",
       "      <th></th>\n",
       "      <th>login_time</th>\n",
       "      <th>count</th>\n",
       "    </tr>\n",
       "  </thead>\n",
       "  <tbody>\n",
       "    <tr>\n",
       "      <th>0</th>\n",
       "      <td>1970-01-01 20:00:00</td>\n",
       "      <td>2</td>\n",
       "    </tr>\n",
       "    <tr>\n",
       "      <th>1</th>\n",
       "      <td>1970-01-01 20:15:00</td>\n",
       "      <td>6</td>\n",
       "    </tr>\n",
       "    <tr>\n",
       "      <th>2</th>\n",
       "      <td>1970-01-01 20:30:00</td>\n",
       "      <td>9</td>\n",
       "    </tr>\n",
       "    <tr>\n",
       "      <th>3</th>\n",
       "      <td>1970-01-01 20:45:00</td>\n",
       "      <td>7</td>\n",
       "    </tr>\n",
       "    <tr>\n",
       "      <th>4</th>\n",
       "      <td>1970-01-01 21:00:00</td>\n",
       "      <td>1</td>\n",
       "    </tr>\n",
       "  </tbody>\n",
       "</table>\n",
       "</div>"
      ],
      "text/plain": [
       "           login_time  count\n",
       "0 1970-01-01 20:00:00      2\n",
       "1 1970-01-01 20:15:00      6\n",
       "2 1970-01-01 20:30:00      9\n",
       "3 1970-01-01 20:45:00      7\n",
       "4 1970-01-01 21:00:00      1"
      ]
     },
     "execution_count": 6,
     "metadata": {},
     "output_type": "execute_result"
    }
   ],
   "source": [
    "# Counting each 15-minute interval\n",
    "indexed_logins_df['count'] = 1\n",
    "indexed_logins_df_15T = indexed_logins_df.resample('15T').count()\n",
    "indexed_logins_df_15T = indexed_logins_df_15T.reset_index()\n",
    "indexed_logins_df_15T.head()"
   ]
  },
  {
   "cell_type": "markdown",
   "metadata": {},
   "source": [
    "**NOTE: We have 3.5 months of data; April is missing 2 weeks of data.**"
   ]
  },
  {
   "cell_type": "code",
   "execution_count": 7,
   "metadata": {},
   "outputs": [
    {
     "data": {
      "image/png": "[encoded data removed]",
      "text/plain": [
       "<matplotlib.figure.Figure at 0x28d6469fe48>"
      ]
     },
     "metadata": {},
     "output_type": "display_data"
    }
   ],
   "source": [
    "# All 3.5 months\n",
    "x = indexed_logins_df_15T['login_time']\n",
    "y = indexed_logins_df_15T['count']\n",
    "plt.plot(x, y)\n",
    "plt.title('Count of logins each 15-min for 3.5 months')\n",
    "plt.xticks(rotation=45);"
   ]
  },
  {
   "cell_type": "markdown",
   "metadata": {},
   "source": [
    "**There seems to be regular spikes, let's try to look into that. I'm suspecting the trend to be related to weekends. But first, let's look at each month.**"
   ]
  },
  {
   "cell_type": "markdown",
   "metadata": {},
   "source": [
    "Let's make tables for each month"
   ]
  },
  {
   "cell_type": "code",
   "execution_count": 8,
   "metadata": {
    "collapsed": true
   },
   "outputs": [],
   "source": [
    "jan = indexed_logins_df_15T[(indexed_logins_df_15T.login_time > '1970-01')\n",
    "                           & (indexed_logins_df_15T.login_time < '1970-02')]\n",
    "feb = indexed_logins_df_15T[(indexed_logins_df_15T.login_time > '1970-02')\n",
    "                           & (indexed_logins_df_15T.login_time < '1970-03')]\n",
    "mar = indexed_logins_df_15T[(indexed_logins_df_15T.login_time > '1970-03')\n",
    "                           & (indexed_logins_df_15T.login_time < '1970-04')]\n",
    "apr = indexed_logins_df_15T[(indexed_logins_df_15T.login_time > '1970-04')\n",
    "                           & (indexed_logins_df_15T.login_time < '1970-05')]"
   ]
  },
  {
   "cell_type": "code",
   "execution_count": 9,
   "metadata": {},
   "outputs": [
    {
     "data": {
      "image/png": "[encoded data removed]",
      "text/plain": [
       "<matplotlib.figure.Figure at 0x28d6469fef0>"
      ]
     },
     "metadata": {},
     "output_type": "display_data"
    }
   ],
   "source": [
    "# January\n",
    "x = jan['login_time']\n",
    "y = jan['count']\n",
    "plt.plot(x, y)\n",
    "plt.title('Count of logins each 15-min for January')\n",
    "plt.xticks(rotation=45);"
   ]
  },
  {
   "cell_type": "code",
   "execution_count": 10,
   "metadata": {},
   "outputs": [
    {
     "data": {
      "image/png": "[encoded data removed]",
      "text/plain": [
       "<matplotlib.figure.Figure at 0x28d64964d68>"
      ]
     },
     "metadata": {},
     "output_type": "display_data"
    }
   ],
   "source": [
    "# February\n",
    "x = feb['login_time']\n",
    "y = feb['count']\n",
    "plt.plot(x, y)\n",
    "plt.title('Count of logins each 15-min for February')\n",
    "plt.xticks(rotation=45);"
   ]
  },
  {
   "cell_type": "code",
   "execution_count": 11,
   "metadata": {},
   "outputs": [
    {
     "data": {
      "image/png": "[encoded data removed]",
      "text/plain": [
       "<matplotlib.figure.Figure at 0x28d64891400>"
      ]
     },
     "metadata": {},
     "output_type": "display_data"
    }
   ],
   "source": [
    "# March\n",
    "x = mar['login_time']\n",
    "y = mar['count']\n",
    "plt.plot(x, y)\n",
    "plt.title('Count of logins each 15-min for March')\n",
    "plt.xticks(rotation=45);"
   ]
  },
  {
   "cell_type": "code",
   "execution_count": 12,
   "metadata": {},
   "outputs": [
    {
     "data": {
      "image/png": "[encoded data removed]",
      "text/plain": [
       "<matplotlib.figure.Figure at 0x28d64b14400>"
      ]
     },
     "metadata": {},
     "output_type": "display_data"
    }
   ],
   "source": [
    "# April\n",
    "x = apr['login_time']\n",
    "y = apr['count']\n",
    "plt.plot(x, y)\n",
    "plt.title('Count of logins each 15-min for Half of April')\n",
    "plt.xticks(rotation=45);"
   ]
  },
  {
   "cell_type": "markdown",
   "metadata": {},
   "source": [
    "**After looking at the 3.5 months of available data, there seems to be no trend for weekly logins per month. Let's dive deeper into each week.**"
   ]
  },
  {
   "cell_type": "code",
   "execution_count": 13,
   "metadata": {},
   "outputs": [
    {
     "data": {
      "text/html": [
       "<div>\n",
       "<style>\n",
       "    .dataframe thead tr:only-child th {\n",
       "        text-align: right;\n",
       "    }\n",
       "\n",
       "    .dataframe thead th {\n",
       "        text-align: left;\n",
       "    }\n",
       "\n",
       "    .dataframe tbody tr th {\n",
       "        vertical-align: top;\n",
       "    }\n",
       "</style>\n",
       "<table border=\"1\" class=\"dataframe\">\n",
       "  <thead>\n",
       "    <tr style=\"text-align: right;\">\n",
       "      <th></th>\n",
       "      <th>weekday</th>\n",
       "      <th>count</th>\n",
       "    </tr>\n",
       "  </thead>\n",
       "  <tbody>\n",
       "    <tr>\n",
       "      <th>0</th>\n",
       "      <td>0</td>\n",
       "      <td>8823</td>\n",
       "    </tr>\n",
       "    <tr>\n",
       "      <th>1</th>\n",
       "      <td>1</td>\n",
       "      <td>9268</td>\n",
       "    </tr>\n",
       "    <tr>\n",
       "      <th>2</th>\n",
       "      <td>2</td>\n",
       "      <td>10339</td>\n",
       "    </tr>\n",
       "    <tr>\n",
       "      <th>3</th>\n",
       "      <td>3</td>\n",
       "      <td>11960</td>\n",
       "    </tr>\n",
       "    <tr>\n",
       "      <th>4</th>\n",
       "      <td>4</td>\n",
       "      <td>15208</td>\n",
       "    </tr>\n",
       "    <tr>\n",
       "      <th>5</th>\n",
       "      <td>5</td>\n",
       "      <td>19377</td>\n",
       "    </tr>\n",
       "    <tr>\n",
       "      <th>6</th>\n",
       "      <td>6</td>\n",
       "      <td>18167</td>\n",
       "    </tr>\n",
       "  </tbody>\n",
       "</table>\n",
       "</div>"
      ],
      "text/plain": [
       "   weekday  count\n",
       "0        0   8823\n",
       "1        1   9268\n",
       "2        2  10339\n",
       "3        3  11960\n",
       "4        4  15208\n",
       "5        5  19377\n",
       "6        6  18167"
      ]
     },
     "execution_count": 13,
     "metadata": {},
     "output_type": "execute_result"
    }
   ],
   "source": [
    "# Counting based on weekdays, 0 = Monday, 6 = Sunday\n",
    "indexed_logins_df_15T['weekday'] = indexed_logins_df_15T[\n",
    "    'login_time'].dt.dayofweek\n",
    "wkday = indexed_logins_df_15T.sort_values(by='count', ascending=False)\n",
    "wkday_counts = wkday[['count', 'weekday']]\n",
    "wkday_count = wkday_counts.groupby('weekday').sum().reset_index()\n",
    "wkday_count"
   ]
  },
  {
   "cell_type": "code",
   "execution_count": 14,
   "metadata": {},
   "outputs": [
    {
     "data": {
      "text/html": [
       "<div>\n",
       "<style>\n",
       "    .dataframe thead tr:only-child th {\n",
       "        text-align: right;\n",
       "    }\n",
       "\n",
       "    .dataframe thead th {\n",
       "        text-align: left;\n",
       "    }\n",
       "\n",
       "    .dataframe tbody tr th {\n",
       "        vertical-align: top;\n",
       "    }\n",
       "</style>\n",
       "<table border=\"1\" class=\"dataframe\">\n",
       "  <thead>\n",
       "    <tr style=\"text-align: right;\">\n",
       "      <th></th>\n",
       "      <th>weekday</th>\n",
       "      <th>count</th>\n",
       "    </tr>\n",
       "  </thead>\n",
       "  <tbody>\n",
       "    <tr>\n",
       "      <th>0</th>\n",
       "      <td>Mon</td>\n",
       "      <td>8823</td>\n",
       "    </tr>\n",
       "    <tr>\n",
       "      <th>1</th>\n",
       "      <td>Tues</td>\n",
       "      <td>9268</td>\n",
       "    </tr>\n",
       "    <tr>\n",
       "      <th>2</th>\n",
       "      <td>Wed</td>\n",
       "      <td>10339</td>\n",
       "    </tr>\n",
       "    <tr>\n",
       "      <th>3</th>\n",
       "      <td>Thurs</td>\n",
       "      <td>11960</td>\n",
       "    </tr>\n",
       "    <tr>\n",
       "      <th>4</th>\n",
       "      <td>Fri</td>\n",
       "      <td>15208</td>\n",
       "    </tr>\n",
       "    <tr>\n",
       "      <th>5</th>\n",
       "      <td>Sat</td>\n",
       "      <td>19377</td>\n",
       "    </tr>\n",
       "    <tr>\n",
       "      <th>6</th>\n",
       "      <td>Sun</td>\n",
       "      <td>18167</td>\n",
       "    </tr>\n",
       "  </tbody>\n",
       "</table>\n",
       "</div>"
      ],
      "text/plain": [
       "  weekday  count\n",
       "0     Mon   8823\n",
       "1    Tues   9268\n",
       "2     Wed  10339\n",
       "3   Thurs  11960\n",
       "4     Fri  15208\n",
       "5     Sat  19377\n",
       "6     Sun  18167"
      ]
     },
     "execution_count": 14,
     "metadata": {},
     "output_type": "execute_result"
    }
   ],
   "source": [
    "# Giving names for the weekdays\n",
    "wkday_count['weekday'] = ['Mon', 'Tues', 'Wed','Thurs',\n",
    "                          'Fri', 'Sat', 'Sun']\n",
    "wkday_count = wkday_count[['weekday', 'count']]\n",
    "wkday_count"
   ]
  },
  {
   "cell_type": "markdown",
   "metadata": {},
   "source": [
    "**There seems to be a trend here! Amount of logins increase as we near the weekend.**"
   ]
  },
  {
   "cell_type": "code",
   "execution_count": 15,
   "metadata": {},
   "outputs": [
    {
     "data": {
      "text/plain": [
       "<matplotlib.text.Text at 0x28d64d0d198>"
      ]
     },
     "execution_count": 15,
     "metadata": {},
     "output_type": "execute_result"
    },
    {
     "data": {
      "image/png": "[encoded data removed]",
      "text/plain": [
       "<matplotlib.figure.Figure at 0x28d648bb518>"
      ]
     },
     "metadata": {},
     "output_type": "display_data"
    }
   ],
   "source": [
    "# Visualizing count of logins vs. weekday\n",
    "sns.barplot(x='weekday', y='count', data=wkday_count)\n",
    "plt.ylabel('Average count for 3.5 Months')\n",
    "plt.xlabel('Weekday')\n",
    "plt.title('Count of logins vs. Weekday for 3.5 Months')"
   ]
  },
  {
   "cell_type": "markdown",
   "metadata": {},
   "source": [
    "Now we drop a step deeper from days to hours. (Don't worry, we'll go back to 15-min intervals as instructions command)"
   ]
  },
  {
   "cell_type": "code",
   "execution_count": 16,
   "metadata": {},
   "outputs": [
    {
     "data": {
      "text/html": [
       "<div>\n",
       "<style>\n",
       "    .dataframe thead tr:only-child th {\n",
       "        text-align: right;\n",
       "    }\n",
       "\n",
       "    .dataframe thead th {\n",
       "        text-align: left;\n",
       "    }\n",
       "\n",
       "    .dataframe tbody tr th {\n",
       "        vertical-align: top;\n",
       "    }\n",
       "</style>\n",
       "<table border=\"1\" class=\"dataframe\">\n",
       "  <thead>\n",
       "    <tr style=\"text-align: right;\">\n",
       "      <th></th>\n",
       "      <th>hour</th>\n",
       "      <th>count</th>\n",
       "    </tr>\n",
       "  </thead>\n",
       "  <tbody>\n",
       "    <tr>\n",
       "      <th>0</th>\n",
       "      <td>0</td>\n",
       "      <td>5993</td>\n",
       "    </tr>\n",
       "    <tr>\n",
       "      <th>1</th>\n",
       "      <td>1</td>\n",
       "      <td>6317</td>\n",
       "    </tr>\n",
       "    <tr>\n",
       "      <th>2</th>\n",
       "      <td>2</td>\n",
       "      <td>5800</td>\n",
       "    </tr>\n",
       "    <tr>\n",
       "      <th>3</th>\n",
       "      <td>3</td>\n",
       "      <td>4831</td>\n",
       "    </tr>\n",
       "    <tr>\n",
       "      <th>4</th>\n",
       "      <td>4</td>\n",
       "      <td>5034</td>\n",
       "    </tr>\n",
       "  </tbody>\n",
       "</table>\n",
       "</div>"
      ],
      "text/plain": [
       "   hour  count\n",
       "0     0   5993\n",
       "1     1   6317\n",
       "2     2   5800\n",
       "3     3   4831\n",
       "4     4   5034"
      ]
     },
     "execution_count": 16,
     "metadata": {},
     "output_type": "execute_result"
    }
   ],
   "source": [
    "# Splitting into hours\n",
    "indexed_logins_df_15T['hour'] = indexed_logins_df_15T[\n",
    "    'login_time'].dt.hour\n",
    "hours = indexed_logins_df_15T\n",
    "hour = hours[['count', 'hour']]\n",
    "hour = hour.groupby('hour').sum().reset_index()\n",
    "hour.head()"
   ]
  },
  {
   "cell_type": "markdown",
   "metadata": {},
   "source": [
    "**Here, it seems like user logins increase during lunch time (11- am to noon), and during late-night (9 pm - 4 am)**"
   ]
  },
  {
   "cell_type": "code",
   "execution_count": 17,
   "metadata": {},
   "outputs": [
    {
     "data": {
      "text/plain": [
       "<matplotlib.text.Text at 0x28d64df24a8>"
      ]
     },
     "execution_count": 17,
     "metadata": {},
     "output_type": "execute_result"
    },
    {
     "data": {
      "image/png": "[encoded data removed]",
      "text/plain": [
       "<matplotlib.figure.Figure at 0x28d6496e8d0>"
      ]
     },
     "metadata": {},
     "output_type": "display_data"
    }
   ],
   "source": [
    "# Visualizing count of logins per hour of the day\n",
    "sns.barplot(x='hour', y='count', data=hours)\n",
    "plt.ylabel('Average count for 3.5 Months')\n",
    "plt.xlabel('Hour of day')\n",
    "plt.title('Average count of logins vs. Hour of day for 3.5 Months')"
   ]
  },
  {
   "cell_type": "markdown",
   "metadata": {},
   "source": [
    "Now, we go back to 15-minute splits. Let's see if we can make sense out of this."
   ]
  },
  {
   "cell_type": "code",
   "execution_count": 18,
   "metadata": {},
   "outputs": [
    {
     "data": {
      "text/html": [
       "<div>\n",
       "<style>\n",
       "    .dataframe thead tr:only-child th {\n",
       "        text-align: right;\n",
       "    }\n",
       "\n",
       "    .dataframe thead th {\n",
       "        text-align: left;\n",
       "    }\n",
       "\n",
       "    .dataframe tbody tr th {\n",
       "        vertical-align: top;\n",
       "    }\n",
       "</style>\n",
       "<table border=\"1\" class=\"dataframe\">\n",
       "  <thead>\n",
       "    <tr style=\"text-align: right;\">\n",
       "      <th></th>\n",
       "      <th>15_minute</th>\n",
       "      <th>count</th>\n",
       "    </tr>\n",
       "  </thead>\n",
       "  <tbody>\n",
       "    <tr>\n",
       "      <th>0</th>\n",
       "      <td>0</td>\n",
       "      <td>22660</td>\n",
       "    </tr>\n",
       "    <tr>\n",
       "      <th>1</th>\n",
       "      <td>15</td>\n",
       "      <td>22975</td>\n",
       "    </tr>\n",
       "    <tr>\n",
       "      <th>2</th>\n",
       "      <td>30</td>\n",
       "      <td>23962</td>\n",
       "    </tr>\n",
       "    <tr>\n",
       "      <th>3</th>\n",
       "      <td>45</td>\n",
       "      <td>23545</td>\n",
       "    </tr>\n",
       "  </tbody>\n",
       "</table>\n",
       "</div>"
      ],
      "text/plain": [
       "   15_minute  count\n",
       "0          0  22660\n",
       "1         15  22975\n",
       "2         30  23962\n",
       "3         45  23545"
      ]
     },
     "execution_count": 18,
     "metadata": {},
     "output_type": "execute_result"
    }
   ],
   "source": [
    "# Splitting into 15 minute intervals\n",
    "indexed_logins_df_15T['15_minute'] = indexed_logins_df_15T[\n",
    "    'login_time'].dt.minute\n",
    "minutes = indexed_logins_df_15T\n",
    "minute = minutes[['count', '15_minute']]\n",
    "minute = minute.groupby('15_minute').sum().reset_index()\n",
    "minute"
   ]
  },
  {
   "cell_type": "markdown",
   "metadata": {},
   "source": [
    "**The averages here seem to be stable, nothing meaningful here**"
   ]
  },
  {
   "cell_type": "code",
   "execution_count": 19,
   "metadata": {},
   "outputs": [
    {
     "data": {
      "text/plain": [
       "<matplotlib.text.Text at 0x28d647b1c88>"
      ]
     },
     "execution_count": 19,
     "metadata": {},
     "output_type": "execute_result"
    },
    {
     "data": {
      "image/png": "[encoded data removed]",
      "text/plain": [
       "<matplotlib.figure.Figure at 0x28d64e64e10>"
      ]
     },
     "metadata": {},
     "output_type": "display_data"
    }
   ],
   "source": [
    "# Visualizing count of logins per quarter-hour\n",
    "sns.barplot(x='15_minute', y='count', data=minutes)\n",
    "plt.ylabel('Average count')\n",
    "plt.xlabel('Minute of Hour')\n",
    "plt.title('Average count of logins vs. Minute of hour for 3.5 Months')"
   ]
  },
  {
   "cell_type": "markdown",
   "metadata": {
    "collapsed": true
   },
   "source": [
    "## Conclusion for Part 1\n",
    "\n",
    "1. Amount of user-logins increase and peak torwards the weekend.\n",
    "2. Amount of user-logins increase during lunch time (11- am to noon) and during late-night (9 pm - 4 am)"
   ]
  },
  {
   "cell_type": "markdown",
   "metadata": {},
   "source": [
    "# Part 2 - Experiment and metrics design\n",
    "\n",
    "The neighboring cities of Gotham and Metropolis have complementary circadian rhythms: on weekdays, Ultimate Gotham is most active at night, and Ultimate Metropolis is most active during the day. On weekends, there is reasonable activity in both cities.\n",
    "\n",
    "However, a toll bridge, with a two way toll, between the two cities causes driver partners to tend to be exclusive to each city. The Ultimate managers of city operations for the two cities have proposed an experiment to encourage driver partners to be available in both cities, by reimbursing all toll costs.\n",
    "\n",
    "1. What would you choose as the key measure of success of this experiment in encouraging driver partners to serve both cities, and why would you choose this metric?\n",
    "\n",
    "2. Describe a practical experiment you would design to compare the effectiveness of the proposed change in relation to the key measure of success. Please provide details on:\n",
    "    * how you will implement the experiment.\n",
    "    * what statistical test(s) you will conduct to verify the significance of the observation.\n",
    "    * how you would interpret the results and provide recommendations to the city operations team along with any caveats."
   ]
  },
  {
   "cell_type": "markdown",
   "metadata": {},
   "source": [
    "## Solution:\n",
    "\n",
    "First, we talk about why the Ultimate managers want more driver partners to be available in both cities.\n",
    "\n",
    "* To increase driver/rider acceptance-rates\n",
    "* To increase driver/rider sign-ups\n",
    "* To reduce driver/rider wait times\n",
    "* To increase profit\n",
    "\n",
    "Ultimately, increasing acceptance-rates and sign-ups while reducing wait times would lead to profit. (No pun intended) In order to increase profit, the additional income brought in during the experiment must outweigh the toll cost reimbursements. We would use the key metric of profit after reimbursement. \n",
    "\n",
    "There are two tests that we could do depending on the time and budget available. A simple study could be an A/B study. We would randomly select half of the drivers to participate in the study while we leave out the other half. After a few months, we compare the profit made after reimbursement of toll costs. A more robust study could last a year. All driver partners are included in the study and the profit made for the year is compared to the previous years with time series analysis.\n",
    "\n",
    "After getting our results, we would use a t-test to test for significance (p = 0.05) between each group. \n",
    "\n",
    "The results of this experiment all depend on what we started it for. An increase in profits. If profits decreased after the experiment, it would mean that reimbursement of toll fees may not have been the most effective way to encourage drivers to be active in both cities in order to increase profits. There may have been exploitations of the incentive or worse. If profits stay the same, then the feature should be left intact due to the possible convenience to some drivers. Finally, if profits increase, it could mean that more experiments relating reimbursements such as gas or mileage will increase profits even further."
   ]
  },
  {
   "cell_type": "markdown",
   "metadata": {},
   "source": [
    "# Part 3: Predictive modeling\n",
    "\n",
    "Ultimate is interested in predicting rider retention. To help explore this question, we have provided a sample dataset of a cohort of users who signed up for an Ultimate account in January 2014. The data was pulled several months later; we consider a user retained if they were “active” (i.e. took a trip) in the preceding 30 days.\n",
    "\n",
    "We would like you to use this data set to help understand what factors are the best predictors for retention, and offer suggestions to operationalize those insights to help Ultimate.\n",
    "The data is in the attached file ultimate_data_challenge.json. See below for a detailed description of the dataset. Please include any code you wrote for the analysis and delete the dataset when you have finished with the challenge.\n",
    "\n",
    "    1. Perform any cleaning, exploratory analysis, and/or visualizations to use the provided data for this analysis (a few sentences/plots describing your approach will suffice). What fraction of the observed users were retained?\n",
    "\n",
    "    2. Build a predictive model to help Ultimate determine whether or not a user will be active in their 6th month on the system. Discuss why you chose your approach, what alternatives you considered, and any concerns you have. How valid is your model? Include any key indicators of model performance.\n",
    "\n",
    "    3. Briefly discuss how Ultimate might leverage the insights gained from the model to improve its longterm rider retention (again, a few sentences will suffice).\n",
    "    \n",
    "### Data description\n",
    "\n",
    "* city: city this user signed up in\n",
    "* phone: primary device for this user\n",
    "* signup_date: date of account registration; in the form ‘YYYY MM DD’\n",
    "* last_trip_date: the last time this user completed a trip; in the form ‘YYYY MM DD’\n",
    "* avg_dist: the average distance in miles per trip taken in the first 30 days after signup\n",
    "* avg_rating_by_driver: the rider’s average rating over all of their trips\n",
    "* avg_rating_of_driver: the rider’s average rating of their drivers over all of their trips\n",
    "* surge_pct: the percent of trips taken with surge multiplier > 1\n",
    "* avg_surge: The average surge multiplier over all of this user’s trips\n",
    "* trips_in_first_30_days: the number of trips this user took in the first 30 days after signing up\n",
    "* ultimate_black_user: TRUE if the user took an Ultimate Black in their first 30 days; FALSE otherwise\n",
    "* weekday_pct: the percent of the user’s trips occurring during a weekday"
   ]
  },
  {
   "cell_type": "markdown",
   "metadata": {},
   "source": [
    "### Data cleaning"
   ]
  },
  {
   "cell_type": "code",
   "execution_count": 20,
   "metadata": {},
   "outputs": [
    {
     "data": {
      "text/html": [
       "<div>\n",
       "<style>\n",
       "    .dataframe thead tr:only-child th {\n",
       "        text-align: right;\n",
       "    }\n",
       "\n",
       "    .dataframe thead th {\n",
       "        text-align: left;\n",
       "    }\n",
       "\n",
       "    .dataframe tbody tr th {\n",
       "        vertical-align: top;\n",
       "    }\n",
       "</style>\n",
       "<table border=\"1\" class=\"dataframe\">\n",
       "  <thead>\n",
       "    <tr style=\"text-align: right;\">\n",
       "      <th></th>\n",
       "      <th>avg_dist</th>\n",
       "      <th>avg_rating_by_driver</th>\n",
       "      <th>avg_rating_of_driver</th>\n",
       "      <th>avg_surge</th>\n",
       "      <th>city</th>\n",
       "      <th>last_trip_date</th>\n",
       "      <th>phone</th>\n",
       "      <th>signup_date</th>\n",
       "      <th>surge_pct</th>\n",
       "      <th>trips_in_first_30_days</th>\n",
       "      <th>ultimate_black_user</th>\n",
       "      <th>weekday_pct</th>\n",
       "    </tr>\n",
       "  </thead>\n",
       "  <tbody>\n",
       "    <tr>\n",
       "      <th>0</th>\n",
       "      <td>3.67</td>\n",
       "      <td>5.0</td>\n",
       "      <td>4.7</td>\n",
       "      <td>1.10</td>\n",
       "      <td>King's Landing</td>\n",
       "      <td>2014-06-17</td>\n",
       "      <td>iPhone</td>\n",
       "      <td>2014-01-25</td>\n",
       "      <td>15.4</td>\n",
       "      <td>4</td>\n",
       "      <td>True</td>\n",
       "      <td>46.2</td>\n",
       "    </tr>\n",
       "    <tr>\n",
       "      <th>1</th>\n",
       "      <td>8.26</td>\n",
       "      <td>5.0</td>\n",
       "      <td>5.0</td>\n",
       "      <td>1.00</td>\n",
       "      <td>Astapor</td>\n",
       "      <td>2014-05-05</td>\n",
       "      <td>Android</td>\n",
       "      <td>2014-01-29</td>\n",
       "      <td>0.0</td>\n",
       "      <td>0</td>\n",
       "      <td>False</td>\n",
       "      <td>50.0</td>\n",
       "    </tr>\n",
       "    <tr>\n",
       "      <th>2</th>\n",
       "      <td>0.77</td>\n",
       "      <td>5.0</td>\n",
       "      <td>4.3</td>\n",
       "      <td>1.00</td>\n",
       "      <td>Astapor</td>\n",
       "      <td>2014-01-07</td>\n",
       "      <td>iPhone</td>\n",
       "      <td>2014-01-06</td>\n",
       "      <td>0.0</td>\n",
       "      <td>3</td>\n",
       "      <td>False</td>\n",
       "      <td>100.0</td>\n",
       "    </tr>\n",
       "    <tr>\n",
       "      <th>3</th>\n",
       "      <td>2.36</td>\n",
       "      <td>4.9</td>\n",
       "      <td>4.6</td>\n",
       "      <td>1.14</td>\n",
       "      <td>King's Landing</td>\n",
       "      <td>2014-06-29</td>\n",
       "      <td>iPhone</td>\n",
       "      <td>2014-01-10</td>\n",
       "      <td>20.0</td>\n",
       "      <td>9</td>\n",
       "      <td>True</td>\n",
       "      <td>80.0</td>\n",
       "    </tr>\n",
       "    <tr>\n",
       "      <th>4</th>\n",
       "      <td>3.13</td>\n",
       "      <td>4.9</td>\n",
       "      <td>4.4</td>\n",
       "      <td>1.19</td>\n",
       "      <td>Winterfell</td>\n",
       "      <td>2014-03-15</td>\n",
       "      <td>Android</td>\n",
       "      <td>2014-01-27</td>\n",
       "      <td>11.8</td>\n",
       "      <td>14</td>\n",
       "      <td>False</td>\n",
       "      <td>82.4</td>\n",
       "    </tr>\n",
       "  </tbody>\n",
       "</table>\n",
       "</div>"
      ],
      "text/plain": [
       "   avg_dist  avg_rating_by_driver  avg_rating_of_driver  avg_surge  \\\n",
       "0      3.67                   5.0                   4.7       1.10   \n",
       "1      8.26                   5.0                   5.0       1.00   \n",
       "2      0.77                   5.0                   4.3       1.00   \n",
       "3      2.36                   4.9                   4.6       1.14   \n",
       "4      3.13                   4.9                   4.4       1.19   \n",
       "\n",
       "             city last_trip_date    phone signup_date  surge_pct  \\\n",
       "0  King's Landing     2014-06-17   iPhone  2014-01-25       15.4   \n",
       "1         Astapor     2014-05-05  Android  2014-01-29        0.0   \n",
       "2         Astapor     2014-01-07   iPhone  2014-01-06        0.0   \n",
       "3  King's Landing     2014-06-29   iPhone  2014-01-10       20.0   \n",
       "4      Winterfell     2014-03-15  Android  2014-01-27       11.8   \n",
       "\n",
       "   trips_in_first_30_days  ultimate_black_user  weekday_pct  \n",
       "0                       4                 True         46.2  \n",
       "1                       0                False         50.0  \n",
       "2                       3                False        100.0  \n",
       "3                       9                 True         80.0  \n",
       "4                      14                False         82.4  "
      ]
     },
     "execution_count": 20,
     "metadata": {},
     "output_type": "execute_result"
    }
   ],
   "source": [
    "# Import json and read data into dataframe\n",
    "import json\n",
    "\n",
    "file = open('ultimate_data_challenge.json', 'r')\n",
    "df = pd.DataFrame(json.load(file))\n",
    "file.close()\n",
    "df.head()"
   ]
  },
  {
   "cell_type": "code",
   "execution_count": 21,
   "metadata": {},
   "outputs": [
    {
     "data": {
      "text/html": [
       "<div>\n",
       "<style>\n",
       "    .dataframe thead tr:only-child th {\n",
       "        text-align: right;\n",
       "    }\n",
       "\n",
       "    .dataframe thead th {\n",
       "        text-align: left;\n",
       "    }\n",
       "\n",
       "    .dataframe tbody tr th {\n",
       "        vertical-align: top;\n",
       "    }\n",
       "</style>\n",
       "<table border=\"1\" class=\"dataframe\">\n",
       "  <thead>\n",
       "    <tr style=\"text-align: right;\">\n",
       "      <th></th>\n",
       "      <th>avg_dist</th>\n",
       "      <th>avg_rating_by_driver</th>\n",
       "      <th>avg_rating_of_driver</th>\n",
       "      <th>avg_surge</th>\n",
       "      <th>surge_pct</th>\n",
       "      <th>trips_in_first_30_days</th>\n",
       "      <th>weekday_pct</th>\n",
       "    </tr>\n",
       "  </thead>\n",
       "  <tbody>\n",
       "    <tr>\n",
       "      <th>count</th>\n",
       "      <td>50000.000000</td>\n",
       "      <td>49799.000000</td>\n",
       "      <td>41878.000000</td>\n",
       "      <td>50000.000000</td>\n",
       "      <td>50000.000000</td>\n",
       "      <td>50000.000000</td>\n",
       "      <td>50000.000000</td>\n",
       "    </tr>\n",
       "    <tr>\n",
       "      <th>mean</th>\n",
       "      <td>5.796827</td>\n",
       "      <td>4.778158</td>\n",
       "      <td>4.601559</td>\n",
       "      <td>1.074764</td>\n",
       "      <td>8.849536</td>\n",
       "      <td>2.278200</td>\n",
       "      <td>60.926084</td>\n",
       "    </tr>\n",
       "    <tr>\n",
       "      <th>std</th>\n",
       "      <td>5.707357</td>\n",
       "      <td>0.446652</td>\n",
       "      <td>0.617338</td>\n",
       "      <td>0.222336</td>\n",
       "      <td>19.958811</td>\n",
       "      <td>3.792684</td>\n",
       "      <td>37.081503</td>\n",
       "    </tr>\n",
       "    <tr>\n",
       "      <th>min</th>\n",
       "      <td>0.000000</td>\n",
       "      <td>1.000000</td>\n",
       "      <td>1.000000</td>\n",
       "      <td>1.000000</td>\n",
       "      <td>0.000000</td>\n",
       "      <td>0.000000</td>\n",
       "      <td>0.000000</td>\n",
       "    </tr>\n",
       "    <tr>\n",
       "      <th>25%</th>\n",
       "      <td>2.420000</td>\n",
       "      <td>4.700000</td>\n",
       "      <td>4.300000</td>\n",
       "      <td>1.000000</td>\n",
       "      <td>0.000000</td>\n",
       "      <td>0.000000</td>\n",
       "      <td>33.300000</td>\n",
       "    </tr>\n",
       "    <tr>\n",
       "      <th>50%</th>\n",
       "      <td>3.880000</td>\n",
       "      <td>5.000000</td>\n",
       "      <td>4.900000</td>\n",
       "      <td>1.000000</td>\n",
       "      <td>0.000000</td>\n",
       "      <td>1.000000</td>\n",
       "      <td>66.700000</td>\n",
       "    </tr>\n",
       "    <tr>\n",
       "      <th>75%</th>\n",
       "      <td>6.940000</td>\n",
       "      <td>5.000000</td>\n",
       "      <td>5.000000</td>\n",
       "      <td>1.050000</td>\n",
       "      <td>8.600000</td>\n",
       "      <td>3.000000</td>\n",
       "      <td>100.000000</td>\n",
       "    </tr>\n",
       "    <tr>\n",
       "      <th>max</th>\n",
       "      <td>160.960000</td>\n",
       "      <td>5.000000</td>\n",
       "      <td>5.000000</td>\n",
       "      <td>8.000000</td>\n",
       "      <td>100.000000</td>\n",
       "      <td>125.000000</td>\n",
       "      <td>100.000000</td>\n",
       "    </tr>\n",
       "  </tbody>\n",
       "</table>\n",
       "</div>"
      ],
      "text/plain": [
       "           avg_dist  avg_rating_by_driver  avg_rating_of_driver     avg_surge  \\\n",
       "count  50000.000000          49799.000000          41878.000000  50000.000000   \n",
       "mean       5.796827              4.778158              4.601559      1.074764   \n",
       "std        5.707357              0.446652              0.617338      0.222336   \n",
       "min        0.000000              1.000000              1.000000      1.000000   \n",
       "25%        2.420000              4.700000              4.300000      1.000000   \n",
       "50%        3.880000              5.000000              4.900000      1.000000   \n",
       "75%        6.940000              5.000000              5.000000      1.050000   \n",
       "max      160.960000              5.000000              5.000000      8.000000   \n",
       "\n",
       "          surge_pct  trips_in_first_30_days   weekday_pct  \n",
       "count  50000.000000            50000.000000  50000.000000  \n",
       "mean       8.849536                2.278200     60.926084  \n",
       "std       19.958811                3.792684     37.081503  \n",
       "min        0.000000                0.000000      0.000000  \n",
       "25%        0.000000                0.000000     33.300000  \n",
       "50%        0.000000                1.000000     66.700000  \n",
       "75%        8.600000                3.000000    100.000000  \n",
       "max      100.000000              125.000000    100.000000  "
      ]
     },
     "execution_count": 21,
     "metadata": {},
     "output_type": "execute_result"
    }
   ],
   "source": [
    "# Getting description of each feature\n",
    "df.describe()"
   ]
  },
  {
   "cell_type": "code",
   "execution_count": 22,
   "metadata": {},
   "outputs": [
    {
     "name": "stdout",
     "output_type": "stream",
     "text": [
      "<class 'pandas.core.frame.DataFrame'>\n",
      "RangeIndex: 50000 entries, 0 to 49999\n",
      "Data columns (total 12 columns):\n",
      "avg_dist                  50000 non-null float64\n",
      "avg_rating_by_driver      49799 non-null float64\n",
      "avg_rating_of_driver      41878 non-null float64\n",
      "avg_surge                 50000 non-null float64\n",
      "city                      50000 non-null object\n",
      "last_trip_date            50000 non-null object\n",
      "phone                     49604 non-null object\n",
      "signup_date               50000 non-null object\n",
      "surge_pct                 50000 non-null float64\n",
      "trips_in_first_30_days    50000 non-null int64\n",
      "ultimate_black_user       50000 non-null bool\n",
      "weekday_pct               50000 non-null float64\n",
      "dtypes: bool(1), float64(6), int64(1), object(4)\n",
      "memory usage: 4.2+ MB\n"
     ]
    }
   ],
   "source": [
    "# Checking datatypes and missing values\n",
    "df.info()"
   ]
  },
  {
   "cell_type": "markdown",
   "metadata": {},
   "source": [
    "As seen above, we have some missing values. Since it is a very small percentage of missing data, we'll assume it with the average values of the entire sample."
   ]
  },
  {
   "cell_type": "code",
   "execution_count": 23,
   "metadata": {
    "collapsed": true
   },
   "outputs": [],
   "source": [
    "# Impute in missing values\n",
    "df['avg_rating_by_driver'].fillna(df['avg_rating_by_driver'].mean(), inplace=True)\n",
    "df['avg_rating_of_driver'].fillna(df['avg_rating_of_driver'].mean(), inplace=True)\n",
    "df['phone'].fillna('iPhone', inplace=True)"
   ]
  },
  {
   "cell_type": "markdown",
   "metadata": {},
   "source": [
    "50,000 values for all features. Perfect!"
   ]
  },
  {
   "cell_type": "code",
   "execution_count": 24,
   "metadata": {},
   "outputs": [
    {
     "name": "stdout",
     "output_type": "stream",
     "text": [
      "<class 'pandas.core.frame.DataFrame'>\n",
      "RangeIndex: 50000 entries, 0 to 49999\n",
      "Data columns (total 12 columns):\n",
      "avg_dist                  50000 non-null float64\n",
      "avg_rating_by_driver      50000 non-null float64\n",
      "avg_rating_of_driver      50000 non-null float64\n",
      "avg_surge                 50000 non-null float64\n",
      "city                      50000 non-null object\n",
      "last_trip_date            50000 non-null object\n",
      "phone                     50000 non-null object\n",
      "signup_date               50000 non-null object\n",
      "surge_pct                 50000 non-null float64\n",
      "trips_in_first_30_days    50000 non-null int64\n",
      "ultimate_black_user       50000 non-null bool\n",
      "weekday_pct               50000 non-null float64\n",
      "dtypes: bool(1), float64(6), int64(1), object(4)\n",
      "memory usage: 4.2+ MB\n"
     ]
    }
   ],
   "source": [
    "# Checking datatypes and missing values\n",
    "df.info()"
   ]
  },
  {
   "cell_type": "code",
   "execution_count": 25,
   "metadata": {
    "collapsed": true
   },
   "outputs": [],
   "source": [
    "# Convert objects to dates\n",
    "df['last_trip_date'] = pd.to_datetime(df['last_trip_date'])\n",
    "df['signup_date'] = pd.to_datetime(df['signup_date'])"
   ]
  },
  {
   "cell_type": "markdown",
   "metadata": {},
   "source": [
    "### Data Visualization\n",
    "\n",
    "The purpose of data visualization here is to simply visualize data distribution. If our model depends on a certain feature to increase retention rate, we look back at our visualizations to see if improvements could be made or not.\n",
    "\n",
    "The most interesting feature availible for us to use is 'trips in first 30 days'. Let's see the relationship it has with other features."
   ]
  },
  {
   "cell_type": "code",
   "execution_count": 26,
   "metadata": {},
   "outputs": [
    {
     "data": {
      "text/html": [
       "<div>\n",
       "<style>\n",
       "    .dataframe thead tr:only-child th {\n",
       "        text-align: right;\n",
       "    }\n",
       "\n",
       "    .dataframe thead th {\n",
       "        text-align: left;\n",
       "    }\n",
       "\n",
       "    .dataframe tbody tr th {\n",
       "        vertical-align: top;\n",
       "    }\n",
       "</style>\n",
       "<table border=\"1\" class=\"dataframe\">\n",
       "  <thead>\n",
       "    <tr style=\"text-align: right;\">\n",
       "      <th></th>\n",
       "      <th>city</th>\n",
       "      <th>trips_in_first_30_days</th>\n",
       "    </tr>\n",
       "  </thead>\n",
       "  <tbody>\n",
       "    <tr>\n",
       "      <th>0</th>\n",
       "      <td>Astapor</td>\n",
       "      <td>32219</td>\n",
       "    </tr>\n",
       "    <tr>\n",
       "      <th>1</th>\n",
       "      <td>King's Landing</td>\n",
       "      <td>24957</td>\n",
       "    </tr>\n",
       "    <tr>\n",
       "      <th>2</th>\n",
       "      <td>Winterfell</td>\n",
       "      <td>56734</td>\n",
       "    </tr>\n",
       "  </tbody>\n",
       "</table>\n",
       "</div>"
      ],
      "text/plain": [
       "             city  trips_in_first_30_days\n",
       "0         Astapor                   32219\n",
       "1  King's Landing                   24957\n",
       "2      Winterfell                   56734"
      ]
     },
     "execution_count": 26,
     "metadata": {},
     "output_type": "execute_result"
    }
   ],
   "source": [
    "# Create dataframe for city and trips\n",
    "trips_city = (df[['trips_in_first_30_days', 'city', 'phone']].groupby('city').sum().reset_index())\n",
    "trips_city"
   ]
  },
  {
   "cell_type": "markdown",
   "metadata": {},
   "source": [
    "**Winterfell is the most popular city**"
   ]
  },
  {
   "cell_type": "code",
   "execution_count": 27,
   "metadata": {},
   "outputs": [
    {
     "data": {
      "text/plain": [
       "<matplotlib.text.Text at 0x28d64874358>"
      ]
     },
     "execution_count": 27,
     "metadata": {},
     "output_type": "execute_result"
    },
    {
     "data": {
      "image/png": "[encoded data removed]",
      "text/plain": [
       "<matplotlib.figure.Figure at 0x28d64943320>"
      ]
     },
     "metadata": {},
     "output_type": "display_data"
    }
   ],
   "source": [
    "# Constructing barplot\n",
    "sns.barplot(x='city', y='trips_in_first_30_days', data=trips_city)\n",
    "plt.ylabel('Sum of trips in first 30 Days')\n",
    "plt.xlabel('City')\n",
    "plt.title('Trips vs. City')"
   ]
  },
  {
   "cell_type": "code",
   "execution_count": 28,
   "metadata": {},
   "outputs": [
    {
     "data": {
      "text/html": [
       "<div>\n",
       "<style>\n",
       "    .dataframe thead tr:only-child th {\n",
       "        text-align: right;\n",
       "    }\n",
       "\n",
       "    .dataframe thead th {\n",
       "        text-align: left;\n",
       "    }\n",
       "\n",
       "    .dataframe tbody tr th {\n",
       "        vertical-align: top;\n",
       "    }\n",
       "</style>\n",
       "<table border=\"1\" class=\"dataframe\">\n",
       "  <thead>\n",
       "    <tr style=\"text-align: right;\">\n",
       "      <th></th>\n",
       "      <th>phone</th>\n",
       "      <th>trips_in_first_30_days</th>\n",
       "    </tr>\n",
       "  </thead>\n",
       "  <tbody>\n",
       "    <tr>\n",
       "      <th>0</th>\n",
       "      <td>Android</td>\n",
       "      <td>29067</td>\n",
       "    </tr>\n",
       "    <tr>\n",
       "      <th>1</th>\n",
       "      <td>iPhone</td>\n",
       "      <td>84843</td>\n",
       "    </tr>\n",
       "  </tbody>\n",
       "</table>\n",
       "</div>"
      ],
      "text/plain": [
       "     phone  trips_in_first_30_days\n",
       "0  Android                   29067\n",
       "1   iPhone                   84843"
      ]
     },
     "execution_count": 28,
     "metadata": {},
     "output_type": "execute_result"
    }
   ],
   "source": [
    "# Create dataframe for phone and trips\n",
    "trips_phone= df[['trips_in_first_30_days', 'city', 'phone']].groupby('phone').sum().reset_index()\n",
    "trips_phone"
   ]
  },
  {
   "cell_type": "markdown",
   "metadata": {},
   "source": [
    "**iPhone users take the most trips**"
   ]
  },
  {
   "cell_type": "code",
   "execution_count": 29,
   "metadata": {},
   "outputs": [
    {
     "data": {
      "text/plain": [
       "<matplotlib.axes._subplots.AxesSubplot at 0x28d64b68c50>"
      ]
     },
     "execution_count": 29,
     "metadata": {},
     "output_type": "execute_result"
    },
    {
     "data": {
      "image/png": "[encoded data removed]",
      "text/plain": [
       "<matplotlib.figure.Figure at 0x28d64b59be0>"
      ]
     },
     "metadata": {},
     "output_type": "display_data"
    }
   ],
   "source": [
    "# Constructing barplot\n",
    "sns.barplot(x='phone', y='trips_in_first_30_days', data=trips_phone)"
   ]
  },
  {
   "cell_type": "markdown",
   "metadata": {},
   "source": [
    "Now, we construct a 6-month retention parameter for our dataset. If the user has taken a trip in 6-months before our last recorded data point, they are considered a retained user."
   ]
  },
  {
   "cell_type": "code",
   "execution_count": 30,
   "metadata": {},
   "outputs": [
    {
     "data": {
      "text/plain": [
       "last_trip_date   2014-07-01\n",
       "dtype: datetime64[ns]"
      ]
     },
     "execution_count": 30,
     "metadata": {},
     "output_type": "execute_result"
    }
   ],
   "source": [
    "# Getting last trip date recorded\n",
    "df[['last_trip_date']].max()"
   ]
  },
  {
   "cell_type": "code",
   "execution_count": 31,
   "metadata": {},
   "outputs": [
    {
     "data": {
      "text/plain": [
       "18804"
      ]
     },
     "execution_count": 31,
     "metadata": {},
     "output_type": "execute_result"
    }
   ],
   "source": [
    "# Active users\n",
    "len(df[df['last_trip_date'] >= '2014-06-01'])"
   ]
  },
  {
   "cell_type": "code",
   "execution_count": 32,
   "metadata": {},
   "outputs": [
    {
     "data": {
      "text/plain": [
       "31196"
      ]
     },
     "execution_count": 32,
     "metadata": {},
     "output_type": "execute_result"
    }
   ],
   "source": [
    "# Non-active users\n",
    "len(df[df['last_trip_date'] < '2014-06-01'])"
   ]
  },
  {
   "cell_type": "code",
   "execution_count": 33,
   "metadata": {},
   "outputs": [
    {
     "data": {
      "text/plain": [
       "50000"
      ]
     },
     "execution_count": 33,
     "metadata": {},
     "output_type": "execute_result"
    }
   ],
   "source": [
    "# Total users\n",
    "len(df)"
   ]
  },
  {
   "cell_type": "code",
   "execution_count": 34,
   "metadata": {},
   "outputs": [
    {
     "data": {
      "text/html": [
       "<div>\n",
       "<style>\n",
       "    .dataframe thead tr:only-child th {\n",
       "        text-align: right;\n",
       "    }\n",
       "\n",
       "    .dataframe thead th {\n",
       "        text-align: left;\n",
       "    }\n",
       "\n",
       "    .dataframe tbody tr th {\n",
       "        vertical-align: top;\n",
       "    }\n",
       "</style>\n",
       "<table border=\"1\" class=\"dataframe\">\n",
       "  <thead>\n",
       "    <tr style=\"text-align: right;\">\n",
       "      <th></th>\n",
       "      <th>avg_dist</th>\n",
       "      <th>avg_rating_by_driver</th>\n",
       "      <th>avg_rating_of_driver</th>\n",
       "      <th>avg_surge</th>\n",
       "      <th>city</th>\n",
       "      <th>last_trip_date</th>\n",
       "      <th>phone</th>\n",
       "      <th>signup_date</th>\n",
       "      <th>surge_pct</th>\n",
       "      <th>trips_in_first_30_days</th>\n",
       "      <th>ultimate_black_user</th>\n",
       "      <th>weekday_pct</th>\n",
       "      <th>retained</th>\n",
       "    </tr>\n",
       "  </thead>\n",
       "  <tbody>\n",
       "    <tr>\n",
       "      <th>0</th>\n",
       "      <td>3.67</td>\n",
       "      <td>5.0</td>\n",
       "      <td>4.7</td>\n",
       "      <td>1.10</td>\n",
       "      <td>King's Landing</td>\n",
       "      <td>2014-06-17</td>\n",
       "      <td>iPhone</td>\n",
       "      <td>2014-01-25</td>\n",
       "      <td>15.4</td>\n",
       "      <td>4</td>\n",
       "      <td>True</td>\n",
       "      <td>46.2</td>\n",
       "      <td>1.0</td>\n",
       "    </tr>\n",
       "    <tr>\n",
       "      <th>1</th>\n",
       "      <td>8.26</td>\n",
       "      <td>5.0</td>\n",
       "      <td>5.0</td>\n",
       "      <td>1.00</td>\n",
       "      <td>Astapor</td>\n",
       "      <td>2014-05-05</td>\n",
       "      <td>Android</td>\n",
       "      <td>2014-01-29</td>\n",
       "      <td>0.0</td>\n",
       "      <td>0</td>\n",
       "      <td>False</td>\n",
       "      <td>50.0</td>\n",
       "      <td>0.0</td>\n",
       "    </tr>\n",
       "    <tr>\n",
       "      <th>2</th>\n",
       "      <td>0.77</td>\n",
       "      <td>5.0</td>\n",
       "      <td>4.3</td>\n",
       "      <td>1.00</td>\n",
       "      <td>Astapor</td>\n",
       "      <td>2014-01-07</td>\n",
       "      <td>iPhone</td>\n",
       "      <td>2014-01-06</td>\n",
       "      <td>0.0</td>\n",
       "      <td>3</td>\n",
       "      <td>False</td>\n",
       "      <td>100.0</td>\n",
       "      <td>0.0</td>\n",
       "    </tr>\n",
       "    <tr>\n",
       "      <th>3</th>\n",
       "      <td>2.36</td>\n",
       "      <td>4.9</td>\n",
       "      <td>4.6</td>\n",
       "      <td>1.14</td>\n",
       "      <td>King's Landing</td>\n",
       "      <td>2014-06-29</td>\n",
       "      <td>iPhone</td>\n",
       "      <td>2014-01-10</td>\n",
       "      <td>20.0</td>\n",
       "      <td>9</td>\n",
       "      <td>True</td>\n",
       "      <td>80.0</td>\n",
       "      <td>1.0</td>\n",
       "    </tr>\n",
       "    <tr>\n",
       "      <th>4</th>\n",
       "      <td>3.13</td>\n",
       "      <td>4.9</td>\n",
       "      <td>4.4</td>\n",
       "      <td>1.19</td>\n",
       "      <td>Winterfell</td>\n",
       "      <td>2014-03-15</td>\n",
       "      <td>Android</td>\n",
       "      <td>2014-01-27</td>\n",
       "      <td>11.8</td>\n",
       "      <td>14</td>\n",
       "      <td>False</td>\n",
       "      <td>82.4</td>\n",
       "      <td>0.0</td>\n",
       "    </tr>\n",
       "  </tbody>\n",
       "</table>\n",
       "</div>"
      ],
      "text/plain": [
       "   avg_dist  avg_rating_by_driver  avg_rating_of_driver  avg_surge  \\\n",
       "0      3.67                   5.0                   4.7       1.10   \n",
       "1      8.26                   5.0                   5.0       1.00   \n",
       "2      0.77                   5.0                   4.3       1.00   \n",
       "3      2.36                   4.9                   4.6       1.14   \n",
       "4      3.13                   4.9                   4.4       1.19   \n",
       "\n",
       "             city last_trip_date    phone signup_date  surge_pct  \\\n",
       "0  King's Landing     2014-06-17   iPhone  2014-01-25       15.4   \n",
       "1         Astapor     2014-05-05  Android  2014-01-29        0.0   \n",
       "2         Astapor     2014-01-07   iPhone  2014-01-06        0.0   \n",
       "3  King's Landing     2014-06-29   iPhone  2014-01-10       20.0   \n",
       "4      Winterfell     2014-03-15  Android  2014-01-27       11.8   \n",
       "\n",
       "   trips_in_first_30_days  ultimate_black_user  weekday_pct  retained  \n",
       "0                       4                 True         46.2       1.0  \n",
       "1                       0                False         50.0       0.0  \n",
       "2                       3                False        100.0       0.0  \n",
       "3                       9                 True         80.0       1.0  \n",
       "4                      14                False         82.4       0.0  "
      ]
     },
     "execution_count": 34,
     "metadata": {},
     "output_type": "execute_result"
    }
   ],
   "source": [
    "# Entering the new parameters\n",
    "df['retained'] = np.nan\n",
    "df.loc[df['last_trip_date'] >= '2014-06-01', 'retained'] = 1\n",
    "df.loc[df['last_trip_date'] < '2014-06-01', 'retained'] = 0\n",
    "df.head()"
   ]
  },
  {
   "cell_type": "code",
   "execution_count": 35,
   "metadata": {},
   "outputs": [
    {
     "data": {
      "text/plain": [
       "0.37608"
      ]
     },
     "execution_count": 35,
     "metadata": {},
     "output_type": "execute_result"
    }
   ],
   "source": [
    "# Retained users\n",
    "df['retained'].sum()/len(df)"
   ]
  },
  {
   "cell_type": "markdown",
   "metadata": {},
   "source": [
    "## Data Preprocessing"
   ]
  },
  {
   "cell_type": "code",
   "execution_count": 36,
   "metadata": {},
   "outputs": [],
   "source": [
    "# Dropping date-time features for predictive modeling\n",
    "df.drop('last_trip_date', axis=1, inplace=True)\n",
    "df.drop('signup_date', axis=1, inplace=True)"
   ]
  },
  {
   "cell_type": "code",
   "execution_count": 37,
   "metadata": {},
   "outputs": [],
   "source": [
    "# Saving 'retained' values for later\n",
    "y = df['retained'].values"
   ]
  },
  {
   "cell_type": "code",
   "execution_count": 38,
   "metadata": {},
   "outputs": [
    {
     "data": {
      "text/html": [
       "<div>\n",
       "<style>\n",
       "    .dataframe thead tr:only-child th {\n",
       "        text-align: right;\n",
       "    }\n",
       "\n",
       "    .dataframe thead th {\n",
       "        text-align: left;\n",
       "    }\n",
       "\n",
       "    .dataframe tbody tr th {\n",
       "        vertical-align: top;\n",
       "    }\n",
       "</style>\n",
       "<table border=\"1\" class=\"dataframe\">\n",
       "  <thead>\n",
       "    <tr style=\"text-align: right;\">\n",
       "      <th></th>\n",
       "      <th>avg_dist</th>\n",
       "      <th>avg_rating_by_driver</th>\n",
       "      <th>avg_rating_of_driver</th>\n",
       "      <th>avg_surge</th>\n",
       "      <th>city</th>\n",
       "      <th>phone</th>\n",
       "      <th>surge_pct</th>\n",
       "      <th>trips_in_first_30_days</th>\n",
       "      <th>ultimate_black_user</th>\n",
       "      <th>weekday_pct</th>\n",
       "    </tr>\n",
       "  </thead>\n",
       "  <tbody>\n",
       "    <tr>\n",
       "      <th>0</th>\n",
       "      <td>3.67</td>\n",
       "      <td>5.0</td>\n",
       "      <td>4.700000</td>\n",
       "      <td>1.10</td>\n",
       "      <td>King's Landing</td>\n",
       "      <td>iPhone</td>\n",
       "      <td>15.4</td>\n",
       "      <td>4</td>\n",
       "      <td>True</td>\n",
       "      <td>46.2</td>\n",
       "    </tr>\n",
       "    <tr>\n",
       "      <th>1</th>\n",
       "      <td>8.26</td>\n",
       "      <td>5.0</td>\n",
       "      <td>5.000000</td>\n",
       "      <td>1.00</td>\n",
       "      <td>Astapor</td>\n",
       "      <td>Android</td>\n",
       "      <td>0.0</td>\n",
       "      <td>0</td>\n",
       "      <td>False</td>\n",
       "      <td>50.0</td>\n",
       "    </tr>\n",
       "    <tr>\n",
       "      <th>2</th>\n",
       "      <td>0.77</td>\n",
       "      <td>5.0</td>\n",
       "      <td>4.300000</td>\n",
       "      <td>1.00</td>\n",
       "      <td>Astapor</td>\n",
       "      <td>iPhone</td>\n",
       "      <td>0.0</td>\n",
       "      <td>3</td>\n",
       "      <td>False</td>\n",
       "      <td>100.0</td>\n",
       "    </tr>\n",
       "    <tr>\n",
       "      <th>3</th>\n",
       "      <td>2.36</td>\n",
       "      <td>4.9</td>\n",
       "      <td>4.600000</td>\n",
       "      <td>1.14</td>\n",
       "      <td>King's Landing</td>\n",
       "      <td>iPhone</td>\n",
       "      <td>20.0</td>\n",
       "      <td>9</td>\n",
       "      <td>True</td>\n",
       "      <td>80.0</td>\n",
       "    </tr>\n",
       "    <tr>\n",
       "      <th>4</th>\n",
       "      <td>3.13</td>\n",
       "      <td>4.9</td>\n",
       "      <td>4.400000</td>\n",
       "      <td>1.19</td>\n",
       "      <td>Winterfell</td>\n",
       "      <td>Android</td>\n",
       "      <td>11.8</td>\n",
       "      <td>14</td>\n",
       "      <td>False</td>\n",
       "      <td>82.4</td>\n",
       "    </tr>\n",
       "    <tr>\n",
       "      <th>5</th>\n",
       "      <td>10.56</td>\n",
       "      <td>5.0</td>\n",
       "      <td>3.500000</td>\n",
       "      <td>1.00</td>\n",
       "      <td>Winterfell</td>\n",
       "      <td>iPhone</td>\n",
       "      <td>0.0</td>\n",
       "      <td>2</td>\n",
       "      <td>True</td>\n",
       "      <td>100.0</td>\n",
       "    </tr>\n",
       "    <tr>\n",
       "      <th>6</th>\n",
       "      <td>3.95</td>\n",
       "      <td>4.0</td>\n",
       "      <td>4.601559</td>\n",
       "      <td>1.00</td>\n",
       "      <td>Astapor</td>\n",
       "      <td>Android</td>\n",
       "      <td>0.0</td>\n",
       "      <td>1</td>\n",
       "      <td>False</td>\n",
       "      <td>100.0</td>\n",
       "    </tr>\n",
       "    <tr>\n",
       "      <th>7</th>\n",
       "      <td>2.04</td>\n",
       "      <td>5.0</td>\n",
       "      <td>5.000000</td>\n",
       "      <td>1.00</td>\n",
       "      <td>Winterfell</td>\n",
       "      <td>iPhone</td>\n",
       "      <td>0.0</td>\n",
       "      <td>2</td>\n",
       "      <td>False</td>\n",
       "      <td>100.0</td>\n",
       "    </tr>\n",
       "    <tr>\n",
       "      <th>8</th>\n",
       "      <td>4.36</td>\n",
       "      <td>5.0</td>\n",
       "      <td>4.500000</td>\n",
       "      <td>1.00</td>\n",
       "      <td>Winterfell</td>\n",
       "      <td>Android</td>\n",
       "      <td>0.0</td>\n",
       "      <td>2</td>\n",
       "      <td>False</td>\n",
       "      <td>100.0</td>\n",
       "    </tr>\n",
       "    <tr>\n",
       "      <th>9</th>\n",
       "      <td>2.37</td>\n",
       "      <td>5.0</td>\n",
       "      <td>4.601559</td>\n",
       "      <td>1.00</td>\n",
       "      <td>Winterfell</td>\n",
       "      <td>Android</td>\n",
       "      <td>0.0</td>\n",
       "      <td>1</td>\n",
       "      <td>False</td>\n",
       "      <td>0.0</td>\n",
       "    </tr>\n",
       "    <tr>\n",
       "      <th>10</th>\n",
       "      <td>4.28</td>\n",
       "      <td>4.9</td>\n",
       "      <td>5.000000</td>\n",
       "      <td>1.00</td>\n",
       "      <td>Winterfell</td>\n",
       "      <td>iPhone</td>\n",
       "      <td>0.0</td>\n",
       "      <td>1</td>\n",
       "      <td>True</td>\n",
       "      <td>100.0</td>\n",
       "    </tr>\n",
       "    <tr>\n",
       "      <th>11</th>\n",
       "      <td>3.81</td>\n",
       "      <td>5.0</td>\n",
       "      <td>4.000000</td>\n",
       "      <td>1.00</td>\n",
       "      <td>Winterfell</td>\n",
       "      <td>iPhone</td>\n",
       "      <td>0.0</td>\n",
       "      <td>3</td>\n",
       "      <td>False</td>\n",
       "      <td>100.0</td>\n",
       "    </tr>\n",
       "    <tr>\n",
       "      <th>12</th>\n",
       "      <td>20.29</td>\n",
       "      <td>5.0</td>\n",
       "      <td>4.601559</td>\n",
       "      <td>1.00</td>\n",
       "      <td>Winterfell</td>\n",
       "      <td>iPhone</td>\n",
       "      <td>0.0</td>\n",
       "      <td>1</td>\n",
       "      <td>False</td>\n",
       "      <td>100.0</td>\n",
       "    </tr>\n",
       "    <tr>\n",
       "      <th>13</th>\n",
       "      <td>3.04</td>\n",
       "      <td>5.0</td>\n",
       "      <td>4.000000</td>\n",
       "      <td>1.38</td>\n",
       "      <td>King's Landing</td>\n",
       "      <td>iPhone</td>\n",
       "      <td>50.0</td>\n",
       "      <td>0</td>\n",
       "      <td>False</td>\n",
       "      <td>50.0</td>\n",
       "    </tr>\n",
       "    <tr>\n",
       "      <th>14</th>\n",
       "      <td>26.01</td>\n",
       "      <td>5.0</td>\n",
       "      <td>4.601559</td>\n",
       "      <td>1.00</td>\n",
       "      <td>Astapor</td>\n",
       "      <td>Android</td>\n",
       "      <td>0.0</td>\n",
       "      <td>1</td>\n",
       "      <td>False</td>\n",
       "      <td>100.0</td>\n",
       "    </tr>\n",
       "    <tr>\n",
       "      <th>15</th>\n",
       "      <td>13.20</td>\n",
       "      <td>5.0</td>\n",
       "      <td>4.601559</td>\n",
       "      <td>1.00</td>\n",
       "      <td>Winterfell</td>\n",
       "      <td>Android</td>\n",
       "      <td>0.0</td>\n",
       "      <td>1</td>\n",
       "      <td>True</td>\n",
       "      <td>100.0</td>\n",
       "    </tr>\n",
       "    <tr>\n",
       "      <th>16</th>\n",
       "      <td>10.86</td>\n",
       "      <td>3.0</td>\n",
       "      <td>5.000000</td>\n",
       "      <td>1.00</td>\n",
       "      <td>King's Landing</td>\n",
       "      <td>Android</td>\n",
       "      <td>0.0</td>\n",
       "      <td>1</td>\n",
       "      <td>True</td>\n",
       "      <td>50.0</td>\n",
       "    </tr>\n",
       "    <tr>\n",
       "      <th>17</th>\n",
       "      <td>2.38</td>\n",
       "      <td>4.8</td>\n",
       "      <td>3.900000</td>\n",
       "      <td>1.00</td>\n",
       "      <td>King's Landing</td>\n",
       "      <td>iPhone</td>\n",
       "      <td>0.0</td>\n",
       "      <td>0</td>\n",
       "      <td>True</td>\n",
       "      <td>95.2</td>\n",
       "    </tr>\n",
       "    <tr>\n",
       "      <th>18</th>\n",
       "      <td>6.83</td>\n",
       "      <td>4.8</td>\n",
       "      <td>4.600000</td>\n",
       "      <td>1.21</td>\n",
       "      <td>King's Landing</td>\n",
       "      <td>iPhone</td>\n",
       "      <td>30.8</td>\n",
       "      <td>6</td>\n",
       "      <td>True</td>\n",
       "      <td>80.8</td>\n",
       "    </tr>\n",
       "    <tr>\n",
       "      <th>19</th>\n",
       "      <td>12.08</td>\n",
       "      <td>5.0</td>\n",
       "      <td>5.000000</td>\n",
       "      <td>1.17</td>\n",
       "      <td>King's Landing</td>\n",
       "      <td>iPhone</td>\n",
       "      <td>33.3</td>\n",
       "      <td>0</td>\n",
       "      <td>False</td>\n",
       "      <td>66.7</td>\n",
       "    </tr>\n",
       "    <tr>\n",
       "      <th>20</th>\n",
       "      <td>2.53</td>\n",
       "      <td>3.0</td>\n",
       "      <td>4.601559</td>\n",
       "      <td>1.00</td>\n",
       "      <td>Winterfell</td>\n",
       "      <td>Android</td>\n",
       "      <td>0.0</td>\n",
       "      <td>1</td>\n",
       "      <td>False</td>\n",
       "      <td>50.0</td>\n",
       "    </tr>\n",
       "    <tr>\n",
       "      <th>21</th>\n",
       "      <td>3.31</td>\n",
       "      <td>5.0</td>\n",
       "      <td>4.601559</td>\n",
       "      <td>1.00</td>\n",
       "      <td>Astapor</td>\n",
       "      <td>iPhone</td>\n",
       "      <td>0.0</td>\n",
       "      <td>1</td>\n",
       "      <td>False</td>\n",
       "      <td>100.0</td>\n",
       "    </tr>\n",
       "    <tr>\n",
       "      <th>22</th>\n",
       "      <td>11.47</td>\n",
       "      <td>5.0</td>\n",
       "      <td>4.601559</td>\n",
       "      <td>1.00</td>\n",
       "      <td>Winterfell</td>\n",
       "      <td>iPhone</td>\n",
       "      <td>0.0</td>\n",
       "      <td>0</td>\n",
       "      <td>False</td>\n",
       "      <td>100.0</td>\n",
       "    </tr>\n",
       "    <tr>\n",
       "      <th>23</th>\n",
       "      <td>7.74</td>\n",
       "      <td>5.0</td>\n",
       "      <td>5.000000</td>\n",
       "      <td>1.00</td>\n",
       "      <td>King's Landing</td>\n",
       "      <td>Android</td>\n",
       "      <td>0.0</td>\n",
       "      <td>0</td>\n",
       "      <td>True</td>\n",
       "      <td>100.0</td>\n",
       "    </tr>\n",
       "    <tr>\n",
       "      <th>24</th>\n",
       "      <td>2.10</td>\n",
       "      <td>4.7</td>\n",
       "      <td>4.500000</td>\n",
       "      <td>1.02</td>\n",
       "      <td>Astapor</td>\n",
       "      <td>iPhone</td>\n",
       "      <td>9.1</td>\n",
       "      <td>4</td>\n",
       "      <td>False</td>\n",
       "      <td>36.4</td>\n",
       "    </tr>\n",
       "    <tr>\n",
       "      <th>25</th>\n",
       "      <td>14.48</td>\n",
       "      <td>5.0</td>\n",
       "      <td>4.601559</td>\n",
       "      <td>1.00</td>\n",
       "      <td>Winterfell</td>\n",
       "      <td>iPhone</td>\n",
       "      <td>0.0</td>\n",
       "      <td>1</td>\n",
       "      <td>True</td>\n",
       "      <td>100.0</td>\n",
       "    </tr>\n",
       "    <tr>\n",
       "      <th>26</th>\n",
       "      <td>1.66</td>\n",
       "      <td>5.0</td>\n",
       "      <td>4.000000</td>\n",
       "      <td>1.00</td>\n",
       "      <td>Astapor</td>\n",
       "      <td>Android</td>\n",
       "      <td>0.0</td>\n",
       "      <td>1</td>\n",
       "      <td>False</td>\n",
       "      <td>100.0</td>\n",
       "    </tr>\n",
       "    <tr>\n",
       "      <th>27</th>\n",
       "      <td>3.05</td>\n",
       "      <td>5.0</td>\n",
       "      <td>5.000000</td>\n",
       "      <td>1.05</td>\n",
       "      <td>Winterfell</td>\n",
       "      <td>iPhone</td>\n",
       "      <td>20.0</td>\n",
       "      <td>3</td>\n",
       "      <td>False</td>\n",
       "      <td>100.0</td>\n",
       "    </tr>\n",
       "    <tr>\n",
       "      <th>28</th>\n",
       "      <td>5.97</td>\n",
       "      <td>5.0</td>\n",
       "      <td>4.601559</td>\n",
       "      <td>1.50</td>\n",
       "      <td>Winterfell</td>\n",
       "      <td>iPhone</td>\n",
       "      <td>100.0</td>\n",
       "      <td>0</td>\n",
       "      <td>False</td>\n",
       "      <td>0.0</td>\n",
       "    </tr>\n",
       "    <tr>\n",
       "      <th>29</th>\n",
       "      <td>11.25</td>\n",
       "      <td>5.0</td>\n",
       "      <td>4.000000</td>\n",
       "      <td>1.00</td>\n",
       "      <td>Astapor</td>\n",
       "      <td>Android</td>\n",
       "      <td>0.0</td>\n",
       "      <td>1</td>\n",
       "      <td>False</td>\n",
       "      <td>100.0</td>\n",
       "    </tr>\n",
       "    <tr>\n",
       "      <th>...</th>\n",
       "      <td>...</td>\n",
       "      <td>...</td>\n",
       "      <td>...</td>\n",
       "      <td>...</td>\n",
       "      <td>...</td>\n",
       "      <td>...</td>\n",
       "      <td>...</td>\n",
       "      <td>...</td>\n",
       "      <td>...</td>\n",
       "      <td>...</td>\n",
       "    </tr>\n",
       "    <tr>\n",
       "      <th>49970</th>\n",
       "      <td>5.62</td>\n",
       "      <td>5.0</td>\n",
       "      <td>4.300000</td>\n",
       "      <td>1.00</td>\n",
       "      <td>Winterfell</td>\n",
       "      <td>iPhone</td>\n",
       "      <td>0.0</td>\n",
       "      <td>2</td>\n",
       "      <td>False</td>\n",
       "      <td>0.0</td>\n",
       "    </tr>\n",
       "    <tr>\n",
       "      <th>49971</th>\n",
       "      <td>4.69</td>\n",
       "      <td>5.0</td>\n",
       "      <td>4.601559</td>\n",
       "      <td>1.00</td>\n",
       "      <td>King's Landing</td>\n",
       "      <td>iPhone</td>\n",
       "      <td>0.0</td>\n",
       "      <td>0</td>\n",
       "      <td>True</td>\n",
       "      <td>100.0</td>\n",
       "    </tr>\n",
       "    <tr>\n",
       "      <th>49972</th>\n",
       "      <td>4.60</td>\n",
       "      <td>3.5</td>\n",
       "      <td>4.000000</td>\n",
       "      <td>1.25</td>\n",
       "      <td>Winterfell</td>\n",
       "      <td>iPhone</td>\n",
       "      <td>50.0</td>\n",
       "      <td>1</td>\n",
       "      <td>False</td>\n",
       "      <td>0.0</td>\n",
       "    </tr>\n",
       "    <tr>\n",
       "      <th>49973</th>\n",
       "      <td>4.07</td>\n",
       "      <td>5.0</td>\n",
       "      <td>4.000000</td>\n",
       "      <td>1.00</td>\n",
       "      <td>Astapor</td>\n",
       "      <td>iPhone</td>\n",
       "      <td>0.0</td>\n",
       "      <td>2</td>\n",
       "      <td>True</td>\n",
       "      <td>25.0</td>\n",
       "    </tr>\n",
       "    <tr>\n",
       "      <th>49974</th>\n",
       "      <td>4.63</td>\n",
       "      <td>5.0</td>\n",
       "      <td>5.000000</td>\n",
       "      <td>2.00</td>\n",
       "      <td>Winterfell</td>\n",
       "      <td>iPhone</td>\n",
       "      <td>100.0</td>\n",
       "      <td>1</td>\n",
       "      <td>False</td>\n",
       "      <td>100.0</td>\n",
       "    </tr>\n",
       "    <tr>\n",
       "      <th>49975</th>\n",
       "      <td>2.18</td>\n",
       "      <td>4.8</td>\n",
       "      <td>3.900000</td>\n",
       "      <td>1.03</td>\n",
       "      <td>Winterfell</td>\n",
       "      <td>iPhone</td>\n",
       "      <td>4.1</td>\n",
       "      <td>11</td>\n",
       "      <td>False</td>\n",
       "      <td>91.8</td>\n",
       "    </tr>\n",
       "    <tr>\n",
       "      <th>49976</th>\n",
       "      <td>2.39</td>\n",
       "      <td>4.0</td>\n",
       "      <td>2.000000</td>\n",
       "      <td>1.00</td>\n",
       "      <td>King's Landing</td>\n",
       "      <td>iPhone</td>\n",
       "      <td>0.0</td>\n",
       "      <td>0</td>\n",
       "      <td>False</td>\n",
       "      <td>100.0</td>\n",
       "    </tr>\n",
       "    <tr>\n",
       "      <th>49977</th>\n",
       "      <td>8.71</td>\n",
       "      <td>5.0</td>\n",
       "      <td>5.000000</td>\n",
       "      <td>1.00</td>\n",
       "      <td>Astapor</td>\n",
       "      <td>Android</td>\n",
       "      <td>0.0</td>\n",
       "      <td>4</td>\n",
       "      <td>False</td>\n",
       "      <td>100.0</td>\n",
       "    </tr>\n",
       "    <tr>\n",
       "      <th>49978</th>\n",
       "      <td>6.02</td>\n",
       "      <td>5.0</td>\n",
       "      <td>4.500000</td>\n",
       "      <td>1.00</td>\n",
       "      <td>Winterfell</td>\n",
       "      <td>Android</td>\n",
       "      <td>0.0</td>\n",
       "      <td>1</td>\n",
       "      <td>False</td>\n",
       "      <td>50.0</td>\n",
       "    </tr>\n",
       "    <tr>\n",
       "      <th>49979</th>\n",
       "      <td>3.81</td>\n",
       "      <td>4.8</td>\n",
       "      <td>4.000000</td>\n",
       "      <td>1.00</td>\n",
       "      <td>Winterfell</td>\n",
       "      <td>Android</td>\n",
       "      <td>0.0</td>\n",
       "      <td>0</td>\n",
       "      <td>True</td>\n",
       "      <td>50.0</td>\n",
       "    </tr>\n",
       "    <tr>\n",
       "      <th>49980</th>\n",
       "      <td>14.42</td>\n",
       "      <td>5.0</td>\n",
       "      <td>4.601559</td>\n",
       "      <td>1.00</td>\n",
       "      <td>Astapor</td>\n",
       "      <td>Android</td>\n",
       "      <td>0.0</td>\n",
       "      <td>1</td>\n",
       "      <td>False</td>\n",
       "      <td>100.0</td>\n",
       "    </tr>\n",
       "    <tr>\n",
       "      <th>49981</th>\n",
       "      <td>5.49</td>\n",
       "      <td>5.0</td>\n",
       "      <td>4.000000</td>\n",
       "      <td>1.00</td>\n",
       "      <td>Astapor</td>\n",
       "      <td>iPhone</td>\n",
       "      <td>0.0</td>\n",
       "      <td>0</td>\n",
       "      <td>True</td>\n",
       "      <td>0.0</td>\n",
       "    </tr>\n",
       "    <tr>\n",
       "      <th>49982</th>\n",
       "      <td>15.23</td>\n",
       "      <td>5.0</td>\n",
       "      <td>5.000000</td>\n",
       "      <td>1.00</td>\n",
       "      <td>King's Landing</td>\n",
       "      <td>iPhone</td>\n",
       "      <td>0.0</td>\n",
       "      <td>0</td>\n",
       "      <td>False</td>\n",
       "      <td>100.0</td>\n",
       "    </tr>\n",
       "    <tr>\n",
       "      <th>49983</th>\n",
       "      <td>30.39</td>\n",
       "      <td>5.0</td>\n",
       "      <td>1.000000</td>\n",
       "      <td>1.00</td>\n",
       "      <td>Winterfell</td>\n",
       "      <td>Android</td>\n",
       "      <td>0.0</td>\n",
       "      <td>1</td>\n",
       "      <td>False</td>\n",
       "      <td>100.0</td>\n",
       "    </tr>\n",
       "    <tr>\n",
       "      <th>49984</th>\n",
       "      <td>3.50</td>\n",
       "      <td>5.0</td>\n",
       "      <td>4.601559</td>\n",
       "      <td>1.00</td>\n",
       "      <td>Winterfell</td>\n",
       "      <td>Android</td>\n",
       "      <td>0.0</td>\n",
       "      <td>1</td>\n",
       "      <td>False</td>\n",
       "      <td>0.0</td>\n",
       "    </tr>\n",
       "    <tr>\n",
       "      <th>49985</th>\n",
       "      <td>1.38</td>\n",
       "      <td>5.0</td>\n",
       "      <td>4.601559</td>\n",
       "      <td>1.00</td>\n",
       "      <td>Astapor</td>\n",
       "      <td>Android</td>\n",
       "      <td>0.0</td>\n",
       "      <td>1</td>\n",
       "      <td>False</td>\n",
       "      <td>100.0</td>\n",
       "    </tr>\n",
       "    <tr>\n",
       "      <th>49986</th>\n",
       "      <td>0.52</td>\n",
       "      <td>5.0</td>\n",
       "      <td>4.000000</td>\n",
       "      <td>1.00</td>\n",
       "      <td>Winterfell</td>\n",
       "      <td>Android</td>\n",
       "      <td>0.0</td>\n",
       "      <td>0</td>\n",
       "      <td>False</td>\n",
       "      <td>100.0</td>\n",
       "    </tr>\n",
       "    <tr>\n",
       "      <th>49987</th>\n",
       "      <td>4.24</td>\n",
       "      <td>4.0</td>\n",
       "      <td>4.600000</td>\n",
       "      <td>1.00</td>\n",
       "      <td>Winterfell</td>\n",
       "      <td>iPhone</td>\n",
       "      <td>0.0</td>\n",
       "      <td>3</td>\n",
       "      <td>False</td>\n",
       "      <td>80.0</td>\n",
       "    </tr>\n",
       "    <tr>\n",
       "      <th>49988</th>\n",
       "      <td>2.53</td>\n",
       "      <td>5.0</td>\n",
       "      <td>4.500000</td>\n",
       "      <td>1.00</td>\n",
       "      <td>King's Landing</td>\n",
       "      <td>iPhone</td>\n",
       "      <td>0.0</td>\n",
       "      <td>1</td>\n",
       "      <td>False</td>\n",
       "      <td>50.0</td>\n",
       "    </tr>\n",
       "    <tr>\n",
       "      <th>49989</th>\n",
       "      <td>0.00</td>\n",
       "      <td>5.0</td>\n",
       "      <td>4.601559</td>\n",
       "      <td>1.00</td>\n",
       "      <td>Winterfell</td>\n",
       "      <td>iPhone</td>\n",
       "      <td>0.0</td>\n",
       "      <td>1</td>\n",
       "      <td>False</td>\n",
       "      <td>100.0</td>\n",
       "    </tr>\n",
       "    <tr>\n",
       "      <th>49990</th>\n",
       "      <td>3.38</td>\n",
       "      <td>5.0</td>\n",
       "      <td>4.700000</td>\n",
       "      <td>1.08</td>\n",
       "      <td>Astapor</td>\n",
       "      <td>iPhone</td>\n",
       "      <td>33.3</td>\n",
       "      <td>1</td>\n",
       "      <td>True</td>\n",
       "      <td>33.3</td>\n",
       "    </tr>\n",
       "    <tr>\n",
       "      <th>49991</th>\n",
       "      <td>1.06</td>\n",
       "      <td>5.0</td>\n",
       "      <td>5.000000</td>\n",
       "      <td>1.25</td>\n",
       "      <td>Winterfell</td>\n",
       "      <td>iPhone</td>\n",
       "      <td>100.0</td>\n",
       "      <td>0</td>\n",
       "      <td>False</td>\n",
       "      <td>0.0</td>\n",
       "    </tr>\n",
       "    <tr>\n",
       "      <th>49992</th>\n",
       "      <td>7.58</td>\n",
       "      <td>5.0</td>\n",
       "      <td>1.000000</td>\n",
       "      <td>1.00</td>\n",
       "      <td>King's Landing</td>\n",
       "      <td>iPhone</td>\n",
       "      <td>0.0</td>\n",
       "      <td>1</td>\n",
       "      <td>False</td>\n",
       "      <td>0.0</td>\n",
       "    </tr>\n",
       "    <tr>\n",
       "      <th>49993</th>\n",
       "      <td>2.53</td>\n",
       "      <td>4.7</td>\n",
       "      <td>4.800000</td>\n",
       "      <td>1.11</td>\n",
       "      <td>Astapor</td>\n",
       "      <td>iPhone</td>\n",
       "      <td>11.1</td>\n",
       "      <td>3</td>\n",
       "      <td>True</td>\n",
       "      <td>55.6</td>\n",
       "    </tr>\n",
       "    <tr>\n",
       "      <th>49994</th>\n",
       "      <td>2.25</td>\n",
       "      <td>4.5</td>\n",
       "      <td>4.600000</td>\n",
       "      <td>1.44</td>\n",
       "      <td>Astapor</td>\n",
       "      <td>iPhone</td>\n",
       "      <td>37.5</td>\n",
       "      <td>1</td>\n",
       "      <td>False</td>\n",
       "      <td>25.0</td>\n",
       "    </tr>\n",
       "    <tr>\n",
       "      <th>49995</th>\n",
       "      <td>5.63</td>\n",
       "      <td>4.2</td>\n",
       "      <td>5.000000</td>\n",
       "      <td>1.00</td>\n",
       "      <td>King's Landing</td>\n",
       "      <td>iPhone</td>\n",
       "      <td>0.0</td>\n",
       "      <td>0</td>\n",
       "      <td>False</td>\n",
       "      <td>100.0</td>\n",
       "    </tr>\n",
       "    <tr>\n",
       "      <th>49996</th>\n",
       "      <td>0.00</td>\n",
       "      <td>4.0</td>\n",
       "      <td>4.601559</td>\n",
       "      <td>1.00</td>\n",
       "      <td>Astapor</td>\n",
       "      <td>iPhone</td>\n",
       "      <td>0.0</td>\n",
       "      <td>1</td>\n",
       "      <td>False</td>\n",
       "      <td>0.0</td>\n",
       "    </tr>\n",
       "    <tr>\n",
       "      <th>49997</th>\n",
       "      <td>3.86</td>\n",
       "      <td>5.0</td>\n",
       "      <td>5.000000</td>\n",
       "      <td>1.00</td>\n",
       "      <td>Winterfell</td>\n",
       "      <td>Android</td>\n",
       "      <td>0.0</td>\n",
       "      <td>0</td>\n",
       "      <td>True</td>\n",
       "      <td>100.0</td>\n",
       "    </tr>\n",
       "    <tr>\n",
       "      <th>49998</th>\n",
       "      <td>4.58</td>\n",
       "      <td>3.5</td>\n",
       "      <td>3.000000</td>\n",
       "      <td>1.00</td>\n",
       "      <td>Astapor</td>\n",
       "      <td>iPhone</td>\n",
       "      <td>0.0</td>\n",
       "      <td>2</td>\n",
       "      <td>False</td>\n",
       "      <td>100.0</td>\n",
       "    </tr>\n",
       "    <tr>\n",
       "      <th>49999</th>\n",
       "      <td>3.49</td>\n",
       "      <td>5.0</td>\n",
       "      <td>4.601559</td>\n",
       "      <td>1.00</td>\n",
       "      <td>Astapor</td>\n",
       "      <td>Android</td>\n",
       "      <td>0.0</td>\n",
       "      <td>0</td>\n",
       "      <td>False</td>\n",
       "      <td>0.0</td>\n",
       "    </tr>\n",
       "  </tbody>\n",
       "</table>\n",
       "<p>50000 rows × 10 columns</p>\n",
       "</div>"
      ],
      "text/plain": [
       "       avg_dist  avg_rating_by_driver  avg_rating_of_driver  avg_surge  \\\n",
       "0          3.67                   5.0              4.700000       1.10   \n",
       "1          8.26                   5.0              5.000000       1.00   \n",
       "2          0.77                   5.0              4.300000       1.00   \n",
       "3          2.36                   4.9              4.600000       1.14   \n",
       "4          3.13                   4.9              4.400000       1.19   \n",
       "5         10.56                   5.0              3.500000       1.00   \n",
       "6          3.95                   4.0              4.601559       1.00   \n",
       "7          2.04                   5.0              5.000000       1.00   \n",
       "8          4.36                   5.0              4.500000       1.00   \n",
       "9          2.37                   5.0              4.601559       1.00   \n",
       "10         4.28                   4.9              5.000000       1.00   \n",
       "11         3.81                   5.0              4.000000       1.00   \n",
       "12        20.29                   5.0              4.601559       1.00   \n",
       "13         3.04                   5.0              4.000000       1.38   \n",
       "14        26.01                   5.0              4.601559       1.00   \n",
       "15        13.20                   5.0              4.601559       1.00   \n",
       "16        10.86                   3.0              5.000000       1.00   \n",
       "17         2.38                   4.8              3.900000       1.00   \n",
       "18         6.83                   4.8              4.600000       1.21   \n",
       "19        12.08                   5.0              5.000000       1.17   \n",
       "20         2.53                   3.0              4.601559       1.00   \n",
       "21         3.31                   5.0              4.601559       1.00   \n",
       "22        11.47                   5.0              4.601559       1.00   \n",
       "23         7.74                   5.0              5.000000       1.00   \n",
       "24         2.10                   4.7              4.500000       1.02   \n",
       "25        14.48                   5.0              4.601559       1.00   \n",
       "26         1.66                   5.0              4.000000       1.00   \n",
       "27         3.05                   5.0              5.000000       1.05   \n",
       "28         5.97                   5.0              4.601559       1.50   \n",
       "29        11.25                   5.0              4.000000       1.00   \n",
       "...         ...                   ...                   ...        ...   \n",
       "49970      5.62                   5.0              4.300000       1.00   \n",
       "49971      4.69                   5.0              4.601559       1.00   \n",
       "49972      4.60                   3.5              4.000000       1.25   \n",
       "49973      4.07                   5.0              4.000000       1.00   \n",
       "49974      4.63                   5.0              5.000000       2.00   \n",
       "49975      2.18                   4.8              3.900000       1.03   \n",
       "49976      2.39                   4.0              2.000000       1.00   \n",
       "49977      8.71                   5.0              5.000000       1.00   \n",
       "49978      6.02                   5.0              4.500000       1.00   \n",
       "49979      3.81                   4.8              4.000000       1.00   \n",
       "49980     14.42                   5.0              4.601559       1.00   \n",
       "49981      5.49                   5.0              4.000000       1.00   \n",
       "49982     15.23                   5.0              5.000000       1.00   \n",
       "49983     30.39                   5.0              1.000000       1.00   \n",
       "49984      3.50                   5.0              4.601559       1.00   \n",
       "49985      1.38                   5.0              4.601559       1.00   \n",
       "49986      0.52                   5.0              4.000000       1.00   \n",
       "49987      4.24                   4.0              4.600000       1.00   \n",
       "49988      2.53                   5.0              4.500000       1.00   \n",
       "49989      0.00                   5.0              4.601559       1.00   \n",
       "49990      3.38                   5.0              4.700000       1.08   \n",
       "49991      1.06                   5.0              5.000000       1.25   \n",
       "49992      7.58                   5.0              1.000000       1.00   \n",
       "49993      2.53                   4.7              4.800000       1.11   \n",
       "49994      2.25                   4.5              4.600000       1.44   \n",
       "49995      5.63                   4.2              5.000000       1.00   \n",
       "49996      0.00                   4.0              4.601559       1.00   \n",
       "49997      3.86                   5.0              5.000000       1.00   \n",
       "49998      4.58                   3.5              3.000000       1.00   \n",
       "49999      3.49                   5.0              4.601559       1.00   \n",
       "\n",
       "                 city    phone  surge_pct  trips_in_first_30_days  \\\n",
       "0      King's Landing   iPhone       15.4                       4   \n",
       "1             Astapor  Android        0.0                       0   \n",
       "2             Astapor   iPhone        0.0                       3   \n",
       "3      King's Landing   iPhone       20.0                       9   \n",
       "4          Winterfell  Android       11.8                      14   \n",
       "5          Winterfell   iPhone        0.0                       2   \n",
       "6             Astapor  Android        0.0                       1   \n",
       "7          Winterfell   iPhone        0.0                       2   \n",
       "8          Winterfell  Android        0.0                       2   \n",
       "9          Winterfell  Android        0.0                       1   \n",
       "10         Winterfell   iPhone        0.0                       1   \n",
       "11         Winterfell   iPhone        0.0                       3   \n",
       "12         Winterfell   iPhone        0.0                       1   \n",
       "13     King's Landing   iPhone       50.0                       0   \n",
       "14            Astapor  Android        0.0                       1   \n",
       "15         Winterfell  Android        0.0                       1   \n",
       "16     King's Landing  Android        0.0                       1   \n",
       "17     King's Landing   iPhone        0.0                       0   \n",
       "18     King's Landing   iPhone       30.8                       6   \n",
       "19     King's Landing   iPhone       33.3                       0   \n",
       "20         Winterfell  Android        0.0                       1   \n",
       "21            Astapor   iPhone        0.0                       1   \n",
       "22         Winterfell   iPhone        0.0                       0   \n",
       "23     King's Landing  Android        0.0                       0   \n",
       "24            Astapor   iPhone        9.1                       4   \n",
       "25         Winterfell   iPhone        0.0                       1   \n",
       "26            Astapor  Android        0.0                       1   \n",
       "27         Winterfell   iPhone       20.0                       3   \n",
       "28         Winterfell   iPhone      100.0                       0   \n",
       "29            Astapor  Android        0.0                       1   \n",
       "...               ...      ...        ...                     ...   \n",
       "49970      Winterfell   iPhone        0.0                       2   \n",
       "49971  King's Landing   iPhone        0.0                       0   \n",
       "49972      Winterfell   iPhone       50.0                       1   \n",
       "49973         Astapor   iPhone        0.0                       2   \n",
       "49974      Winterfell   iPhone      100.0                       1   \n",
       "49975      Winterfell   iPhone        4.1                      11   \n",
       "49976  King's Landing   iPhone        0.0                       0   \n",
       "49977         Astapor  Android        0.0                       4   \n",
       "49978      Winterfell  Android        0.0                       1   \n",
       "49979      Winterfell  Android        0.0                       0   \n",
       "49980         Astapor  Android        0.0                       1   \n",
       "49981         Astapor   iPhone        0.0                       0   \n",
       "49982  King's Landing   iPhone        0.0                       0   \n",
       "49983      Winterfell  Android        0.0                       1   \n",
       "49984      Winterfell  Android        0.0                       1   \n",
       "49985         Astapor  Android        0.0                       1   \n",
       "49986      Winterfell  Android        0.0                       0   \n",
       "49987      Winterfell   iPhone        0.0                       3   \n",
       "49988  King's Landing   iPhone        0.0                       1   \n",
       "49989      Winterfell   iPhone        0.0                       1   \n",
       "49990         Astapor   iPhone       33.3                       1   \n",
       "49991      Winterfell   iPhone      100.0                       0   \n",
       "49992  King's Landing   iPhone        0.0                       1   \n",
       "49993         Astapor   iPhone       11.1                       3   \n",
       "49994         Astapor   iPhone       37.5                       1   \n",
       "49995  King's Landing   iPhone        0.0                       0   \n",
       "49996         Astapor   iPhone        0.0                       1   \n",
       "49997      Winterfell  Android        0.0                       0   \n",
       "49998         Astapor   iPhone        0.0                       2   \n",
       "49999         Astapor  Android        0.0                       0   \n",
       "\n",
       "       ultimate_black_user  weekday_pct  \n",
       "0                     True         46.2  \n",
       "1                    False         50.0  \n",
       "2                    False        100.0  \n",
       "3                     True         80.0  \n",
       "4                    False         82.4  \n",
       "5                     True        100.0  \n",
       "6                    False        100.0  \n",
       "7                    False        100.0  \n",
       "8                    False        100.0  \n",
       "9                    False          0.0  \n",
       "10                    True        100.0  \n",
       "11                   False        100.0  \n",
       "12                   False        100.0  \n",
       "13                   False         50.0  \n",
       "14                   False        100.0  \n",
       "15                    True        100.0  \n",
       "16                    True         50.0  \n",
       "17                    True         95.2  \n",
       "18                    True         80.8  \n",
       "19                   False         66.7  \n",
       "20                   False         50.0  \n",
       "21                   False        100.0  \n",
       "22                   False        100.0  \n",
       "23                    True        100.0  \n",
       "24                   False         36.4  \n",
       "25                    True        100.0  \n",
       "26                   False        100.0  \n",
       "27                   False        100.0  \n",
       "28                   False          0.0  \n",
       "29                   False        100.0  \n",
       "...                    ...          ...  \n",
       "49970                False          0.0  \n",
       "49971                 True        100.0  \n",
       "49972                False          0.0  \n",
       "49973                 True         25.0  \n",
       "49974                False        100.0  \n",
       "49975                False         91.8  \n",
       "49976                False        100.0  \n",
       "49977                False        100.0  \n",
       "49978                False         50.0  \n",
       "49979                 True         50.0  \n",
       "49980                False        100.0  \n",
       "49981                 True          0.0  \n",
       "49982                False        100.0  \n",
       "49983                False        100.0  \n",
       "49984                False          0.0  \n",
       "49985                False        100.0  \n",
       "49986                False        100.0  \n",
       "49987                False         80.0  \n",
       "49988                False         50.0  \n",
       "49989                False        100.0  \n",
       "49990                 True         33.3  \n",
       "49991                False          0.0  \n",
       "49992                False          0.0  \n",
       "49993                 True         55.6  \n",
       "49994                False         25.0  \n",
       "49995                False        100.0  \n",
       "49996                False          0.0  \n",
       "49997                 True        100.0  \n",
       "49998                False        100.0  \n",
       "49999                False          0.0  \n",
       "\n",
       "[50000 rows x 10 columns]"
      ]
     },
     "execution_count": 38,
     "metadata": {},
     "output_type": "execute_result"
    }
   ],
   "source": [
    "# Dropping 'retained' values\n",
    "df = df.drop('retained', axis=1)\n",
    "df"
   ]
  },
  {
   "cell_type": "markdown",
   "metadata": {},
   "source": [
    "Here we do hot encoding for our object variables. We give them different columns since an option in one feature isn't necessarily better than the other."
   ]
  },
  {
   "cell_type": "code",
   "execution_count": 39,
   "metadata": {},
   "outputs": [
    {
     "data": {
      "text/html": [
       "<div>\n",
       "<style>\n",
       "    .dataframe thead tr:only-child th {\n",
       "        text-align: right;\n",
       "    }\n",
       "\n",
       "    .dataframe thead th {\n",
       "        text-align: left;\n",
       "    }\n",
       "\n",
       "    .dataframe tbody tr th {\n",
       "        vertical-align: top;\n",
       "    }\n",
       "</style>\n",
       "<table border=\"1\" class=\"dataframe\">\n",
       "  <thead>\n",
       "    <tr style=\"text-align: right;\">\n",
       "      <th></th>\n",
       "      <th>avg_dist</th>\n",
       "      <th>avg_rating_by_driver</th>\n",
       "      <th>avg_rating_of_driver</th>\n",
       "      <th>avg_surge</th>\n",
       "      <th>surge_pct</th>\n",
       "      <th>trips_in_first_30_days</th>\n",
       "      <th>weekday_pct</th>\n",
       "      <th>city_Astapor</th>\n",
       "      <th>city_King's Landing</th>\n",
       "      <th>city_Winterfell</th>\n",
       "      <th>phone_Android</th>\n",
       "      <th>phone_iPhone</th>\n",
       "      <th>ultimate_black_user_False</th>\n",
       "      <th>ultimate_black_user_True</th>\n",
       "    </tr>\n",
       "  </thead>\n",
       "  <tbody>\n",
       "    <tr>\n",
       "      <th>0</th>\n",
       "      <td>3.67</td>\n",
       "      <td>5.0</td>\n",
       "      <td>4.7</td>\n",
       "      <td>1.10</td>\n",
       "      <td>15.4</td>\n",
       "      <td>4</td>\n",
       "      <td>46.2</td>\n",
       "      <td>0</td>\n",
       "      <td>1</td>\n",
       "      <td>0</td>\n",
       "      <td>0</td>\n",
       "      <td>1</td>\n",
       "      <td>0</td>\n",
       "      <td>1</td>\n",
       "    </tr>\n",
       "    <tr>\n",
       "      <th>1</th>\n",
       "      <td>8.26</td>\n",
       "      <td>5.0</td>\n",
       "      <td>5.0</td>\n",
       "      <td>1.00</td>\n",
       "      <td>0.0</td>\n",
       "      <td>0</td>\n",
       "      <td>50.0</td>\n",
       "      <td>1</td>\n",
       "      <td>0</td>\n",
       "      <td>0</td>\n",
       "      <td>1</td>\n",
       "      <td>0</td>\n",
       "      <td>1</td>\n",
       "      <td>0</td>\n",
       "    </tr>\n",
       "    <tr>\n",
       "      <th>2</th>\n",
       "      <td>0.77</td>\n",
       "      <td>5.0</td>\n",
       "      <td>4.3</td>\n",
       "      <td>1.00</td>\n",
       "      <td>0.0</td>\n",
       "      <td>3</td>\n",
       "      <td>100.0</td>\n",
       "      <td>1</td>\n",
       "      <td>0</td>\n",
       "      <td>0</td>\n",
       "      <td>0</td>\n",
       "      <td>1</td>\n",
       "      <td>1</td>\n",
       "      <td>0</td>\n",
       "    </tr>\n",
       "    <tr>\n",
       "      <th>3</th>\n",
       "      <td>2.36</td>\n",
       "      <td>4.9</td>\n",
       "      <td>4.6</td>\n",
       "      <td>1.14</td>\n",
       "      <td>20.0</td>\n",
       "      <td>9</td>\n",
       "      <td>80.0</td>\n",
       "      <td>0</td>\n",
       "      <td>1</td>\n",
       "      <td>0</td>\n",
       "      <td>0</td>\n",
       "      <td>1</td>\n",
       "      <td>0</td>\n",
       "      <td>1</td>\n",
       "    </tr>\n",
       "    <tr>\n",
       "      <th>4</th>\n",
       "      <td>3.13</td>\n",
       "      <td>4.9</td>\n",
       "      <td>4.4</td>\n",
       "      <td>1.19</td>\n",
       "      <td>11.8</td>\n",
       "      <td>14</td>\n",
       "      <td>82.4</td>\n",
       "      <td>0</td>\n",
       "      <td>0</td>\n",
       "      <td>1</td>\n",
       "      <td>1</td>\n",
       "      <td>0</td>\n",
       "      <td>1</td>\n",
       "      <td>0</td>\n",
       "    </tr>\n",
       "  </tbody>\n",
       "</table>\n",
       "</div>"
      ],
      "text/plain": [
       "   avg_dist  avg_rating_by_driver  avg_rating_of_driver  avg_surge  surge_pct  \\\n",
       "0      3.67                   5.0                   4.7       1.10       15.4   \n",
       "1      8.26                   5.0                   5.0       1.00        0.0   \n",
       "2      0.77                   5.0                   4.3       1.00        0.0   \n",
       "3      2.36                   4.9                   4.6       1.14       20.0   \n",
       "4      3.13                   4.9                   4.4       1.19       11.8   \n",
       "\n",
       "   trips_in_first_30_days  weekday_pct  city_Astapor  city_King's Landing  \\\n",
       "0                       4         46.2             0                    1   \n",
       "1                       0         50.0             1                    0   \n",
       "2                       3        100.0             1                    0   \n",
       "3                       9         80.0             0                    1   \n",
       "4                      14         82.4             0                    0   \n",
       "\n",
       "   city_Winterfell  phone_Android  phone_iPhone  ultimate_black_user_False  \\\n",
       "0                0              0             1                          0   \n",
       "1                0              1             0                          1   \n",
       "2                0              0             1                          1   \n",
       "3                0              0             1                          0   \n",
       "4                1              1             0                          1   \n",
       "\n",
       "   ultimate_black_user_True  \n",
       "0                         1  \n",
       "1                         0  \n",
       "2                         0  \n",
       "3                         1  \n",
       "4                         0  "
      ]
     },
     "execution_count": 39,
     "metadata": {},
     "output_type": "execute_result"
    }
   ],
   "source": [
    "# One-hot-encode all categorical features\n",
    "df_encoded = pd.get_dummies(df, columns = ['city', 'phone', 'ultimate_black_user'])\n",
    "df_encoded.head()"
   ]
  },
  {
   "cell_type": "code",
   "execution_count": 40,
   "metadata": {},
   "outputs": [
    {
     "name": "stdout",
     "output_type": "stream",
     "text": [
      "<class 'pandas.core.frame.DataFrame'>\n",
      "RangeIndex: 50000 entries, 0 to 49999\n",
      "Data columns (total 10 columns):\n",
      "avg_dist                  50000 non-null float64\n",
      "avg_rating_by_driver      50000 non-null float64\n",
      "avg_rating_of_driver      50000 non-null float64\n",
      "avg_surge                 50000 non-null float64\n",
      "city                      50000 non-null object\n",
      "phone                     50000 non-null object\n",
      "surge_pct                 50000 non-null float64\n",
      "trips_in_first_30_days    50000 non-null int64\n",
      "ultimate_black_user       50000 non-null bool\n",
      "weekday_pct               50000 non-null float64\n",
      "dtypes: bool(1), float64(6), int64(1), object(2)\n",
      "memory usage: 3.5+ MB\n"
     ]
    }
   ],
   "source": [
    "# Checking up on our new dataframe\n",
    "df.info()"
   ]
  },
  {
   "cell_type": "code",
   "execution_count": 41,
   "metadata": {},
   "outputs": [],
   "source": [
    "# Setting X set into values\n",
    "X = df_encoded.values"
   ]
  },
  {
   "cell_type": "code",
   "execution_count": 42,
   "metadata": {},
   "outputs": [
    {
     "data": {
      "text/plain": [
       "array([  3.67,   5.  ,   4.7 ,   1.1 ,  15.4 ,   4.  ,  46.2 ,   0.  ,\n",
       "         1.  ,   0.  ,   0.  ,   1.  ,   0.  ,   1.  ])"
      ]
     },
     "execution_count": 42,
     "metadata": {},
     "output_type": "execute_result"
    }
   ],
   "source": [
    "# Quick check on first line of X\n",
    "X[0]"
   ]
  },
  {
   "cell_type": "code",
   "execution_count": 43,
   "metadata": {},
   "outputs": [
    {
     "data": {
      "text/plain": [
       "1.0"
      ]
     },
     "execution_count": 43,
     "metadata": {},
     "output_type": "execute_result"
    }
   ],
   "source": [
    "# Quick check on first line of y\n",
    "y[0]"
   ]
  },
  {
   "cell_type": "markdown",
   "metadata": {},
   "source": [
    "Now we split the datasets into traning and test set, 80% of our data will be used to train our model and 20% will be used to test our model."
   ]
  },
  {
   "cell_type": "code",
   "execution_count": 44,
   "metadata": {
    "collapsed": true
   },
   "outputs": [],
   "source": [
    "# Splitting the dataset into the Training set and Test set\n",
    "from sklearn.model_selection import train_test_split\n",
    "X_train, X_test, y_train, y_test = train_test_split(X, y, test_size = 0.2, random_state = 0)"
   ]
  },
  {
   "cell_type": "markdown",
   "metadata": {},
   "source": [
    "Since we will be using intensive neural networks, we will scale our features to make it easier on our deep learning processing stages."
   ]
  },
  {
   "cell_type": "code",
   "execution_count": 45,
   "metadata": {},
   "outputs": [
    {
     "data": {
      "text/plain": [
       "array([  4.22,   4.8 ,   4.4 ,   1.  ,   0.  ,   8.  ,  58.8 ,   0.  ,\n",
       "         0.  ,   1.  ,   0.  ,   1.  ,   1.  ,   0.  ])"
      ]
     },
     "execution_count": 45,
     "metadata": {},
     "output_type": "execute_result"
    }
   ],
   "source": [
    "# First row of training set before feature scaling\n",
    "X_train[0]"
   ]
  },
  {
   "cell_type": "code",
   "execution_count": 46,
   "metadata": {},
   "outputs": [],
   "source": [
    "# Feature Scaling\n",
    "from sklearn.preprocessing import StandardScaler\n",
    "sc = StandardScaler()\n",
    "X_train = sc.fit_transform(X_train)\n",
    "X_test = sc.transform(X_test)"
   ]
  },
  {
   "cell_type": "code",
   "execution_count": 47,
   "metadata": {},
   "outputs": [
    {
     "data": {
      "text/plain": [
       "array([-0.27614115,  0.0499192 , -0.35772305, -0.33433449, -0.44316453,\n",
       "        1.50137864, -0.05730248, -0.70371536, -0.5019914 ,  1.06720338,\n",
       "       -0.65134309,  0.65134309,  0.78254911, -0.78254911])"
      ]
     },
     "execution_count": 47,
     "metadata": {},
     "output_type": "execute_result"
    }
   ],
   "source": [
    "# First row of training set after feature scaling\n",
    "X_train[0]"
   ]
  },
  {
   "cell_type": "markdown",
   "metadata": {},
   "source": [
    "### Developing Neural Network for Predictive Model\n",
    "\n",
    "We start development of our neural network with TensorFlow and Keras. The Sequential package will be used to initalize our neural network. The Dense package will be used to layer our neural network."
   ]
  },
  {
   "cell_type": "code",
   "execution_count": 48,
   "metadata": {},
   "outputs": [
    {
     "name": "stderr",
     "output_type": "stream",
     "text": [
      "Using TensorFlow backend.\n"
     ]
    }
   ],
   "source": [
    "# Importing TensorFlow and the Keras libraries with packages\n",
    "import tensorflow\n",
    "import keras\n",
    "from keras.models import Sequential\n",
    "from keras.layers import Dense"
   ]
  },
  {
   "cell_type": "markdown",
   "metadata": {},
   "source": [
    "Time to initialize our neural network!"
   ]
  },
  {
   "cell_type": "code",
   "execution_count": 49,
   "metadata": {
    "collapsed": true
   },
   "outputs": [],
   "source": [
    "# Initializing the Neural Network\n",
    "classifier = Sequential()"
   ]
  },
  {
   "cell_type": "markdown",
   "metadata": {},
   "source": [
    "We add our first layer which takes 14 inputs and has 7 neurons. Generally, we pick a neuron count which is averaged between input (11) and output (1) counts. We use a rectifier(general) activation function for our middle layers and a sigmoid (probablity) function for our final output."
   ]
  },
  {
   "cell_type": "code",
   "execution_count": 50,
   "metadata": {
    "collapsed": true
   },
   "outputs": [],
   "source": [
    "# Adding the input layer and the first hidden layer\n",
    "classifier.add(Dense(units = 7, kernel_initializer = 'uniform', activation = 'relu', input_dim = 14))\n",
    "\n",
    "# Adding the second hidden layer\n",
    "classifier.add(Dense(units = 7, kernel_initializer = 'uniform', activation = 'relu'))\n",
    "\n",
    "# Adding the output layer\n",
    "classifier.add(Dense(units = 1, kernel_initializer = 'uniform', activation = 'sigmoid'))"
   ]
  },
  {
   "cell_type": "markdown",
   "metadata": {},
   "source": [
    "To compile our neural network, we use an 'Adam' optimizer, an excellent algorithm for first-order gradient-based optimization of stochastic objective functions, based on adaptive estimates of lower-order moments. We use a log loss function, binary crossentropy. since it works well with our sigmoid function. Our metrics will be accuracy since that is what we are most concerned about for our model."
   ]
  },
  {
   "cell_type": "code",
   "execution_count": 51,
   "metadata": {
    "collapsed": true
   },
   "outputs": [],
   "source": [
    "# Compiling the Neural Network\n",
    "classifier.compile(optimizer = 'adam', loss = 'binary_crossentropy', metrics = ['accuracy'])"
   ]
  },
  {
   "cell_type": "markdown",
   "metadata": {},
   "source": [
    "To fit our neural network to our training set, we use a batch size of 16 and 10 epochs."
   ]
  },
  {
   "cell_type": "code",
   "execution_count": 52,
   "metadata": {},
   "outputs": [
    {
     "name": "stdout",
     "output_type": "stream",
     "text": [
      "Epoch 1/10\n",
      "40000/40000 [==============================] - 2s - loss: 0.5487 - acc: 0.7252     \n",
      "Epoch 2/10\n",
      "40000/40000 [==============================] - 2s - loss: 0.5048 - acc: 0.7573     \n",
      "Epoch 3/10\n",
      "40000/40000 [==============================] - 2s - loss: 0.4931 - acc: 0.7678     \n",
      "Epoch 4/10\n",
      "40000/40000 [==============================] - 2s - loss: 0.4904 - acc: 0.7693     \n",
      "Epoch 5/10\n",
      "40000/40000 [==============================] - 2s - loss: 0.4890 - acc: 0.7707     \n",
      "Epoch 6/10\n",
      "40000/40000 [==============================] - 2s - loss: 0.4879 - acc: 0.7715     \n",
      "Epoch 7/10\n",
      "40000/40000 [==============================] - 2s - loss: 0.4869 - acc: 0.7723     \n",
      "Epoch 8/10\n",
      "40000/40000 [==============================] - 2s - loss: 0.4862 - acc: 0.7724     \n",
      "Epoch 9/10\n",
      "40000/40000 [==============================] - 2s - loss: 0.4858 - acc: 0.7735     \n",
      "Epoch 10/10\n",
      "40000/40000 [==============================] - 2s - loss: 0.4854 - acc: 0.7730     \n"
     ]
    },
    {
     "data": {
      "text/plain": [
       "<keras.callbacks.History at 0x28d64254748>"
      ]
     },
     "execution_count": 52,
     "metadata": {},
     "output_type": "execute_result"
    }
   ],
   "source": [
    "# Fitting the Neural Network to the Training set\n",
    "classifier.fit(X_train, y_train, batch_size = 16, epochs = 10)"
   ]
  },
  {
   "cell_type": "markdown",
   "metadata": {},
   "source": [
    "**Our model has an 77.15% accuracy, nice! There are still some improvements to be made.**"
   ]
  },
  {
   "cell_type": "markdown",
   "metadata": {},
   "source": [
    "### Making Predictions and Evaluating the Model\n",
    "\n",
    "Since we are predicting retention rate, we will use above 50% to be 'True'. We should use a higher threshold for more sensitive studies such as medical ones. After, we print a confusion matrix to see our results."
   ]
  },
  {
   "cell_type": "code",
   "execution_count": 53,
   "metadata": {},
   "outputs": [
    {
     "name": "stdout",
     "output_type": "stream",
     "text": [
      "[[5271  980]\n",
      " [1260 2489]]\n"
     ]
    }
   ],
   "source": [
    "# Predicting the Test set results\n",
    "y_pred = classifier.predict(X_test)\n",
    "y_pred = (y_pred > 0.5)\n",
    "\n",
    "# Making the Confusion Matrix\n",
    "from sklearn.metrics import confusion_matrix\n",
    "cm = confusion_matrix(y_test, y_pred)\n",
    "print(cm)"
   ]
  },
  {
   "cell_type": "code",
   "execution_count": 54,
   "metadata": {},
   "outputs": [
    {
     "name": "stdout",
     "output_type": "stream",
     "text": [
      "True Positives: 5271\n",
      "True Negatives: 2489\n",
      "False Positives: 980\n",
      "False Negatives: 1260\n"
     ]
    }
   ],
   "source": [
    "# Visualizing confusion matrix\n",
    "pos, neg = cm\n",
    "tp, fp = pos\n",
    "fn, tn = neg\n",
    "print('True Positives:', tp)\n",
    "print('True Negatives:', tn)\n",
    "print('False Positives:', fp)\n",
    "print('False Negatives:', fn)"
   ]
  },
  {
   "cell_type": "code",
   "execution_count": 55,
   "metadata": {},
   "outputs": [
    {
     "name": "stdout",
     "output_type": "stream",
     "text": [
      "Accuracy: 0.776\n"
     ]
    }
   ],
   "source": [
    "# Accuracy rate of confusion matrix\n",
    "print('Accuracy:', (tp+tn)/(tp+tn+fp+fn))"
   ]
  },
  {
   "cell_type": "markdown",
   "metadata": {},
   "source": [
    "### Test Neural Network Model\n",
    "\n",
    "Here we test our neural network predicting feature with an example user."
   ]
  },
  {
   "cell_type": "code",
   "execution_count": 56,
   "metadata": {},
   "outputs": [
    {
     "data": {
      "text/html": [
       "<div>\n",
       "<style>\n",
       "    .dataframe thead tr:only-child th {\n",
       "        text-align: right;\n",
       "    }\n",
       "\n",
       "    .dataframe thead th {\n",
       "        text-align: left;\n",
       "    }\n",
       "\n",
       "    .dataframe tbody tr th {\n",
       "        vertical-align: top;\n",
       "    }\n",
       "</style>\n",
       "<table border=\"1\" class=\"dataframe\">\n",
       "  <thead>\n",
       "    <tr style=\"text-align: right;\">\n",
       "      <th></th>\n",
       "      <th>avg_dist</th>\n",
       "      <th>avg_rating_by_driver</th>\n",
       "      <th>avg_rating_of_driver</th>\n",
       "      <th>avg_surge</th>\n",
       "      <th>surge_pct</th>\n",
       "      <th>trips_in_first_30_days</th>\n",
       "      <th>weekday_pct</th>\n",
       "      <th>city_Astapor</th>\n",
       "      <th>city_King's Landing</th>\n",
       "      <th>city_Winterfell</th>\n",
       "      <th>phone_Android</th>\n",
       "      <th>phone_iPhone</th>\n",
       "      <th>ultimate_black_user_False</th>\n",
       "      <th>ultimate_black_user_True</th>\n",
       "    </tr>\n",
       "  </thead>\n",
       "  <tbody>\n",
       "    <tr>\n",
       "      <th>0</th>\n",
       "      <td>0.77</td>\n",
       "      <td>5.0</td>\n",
       "      <td>4.3</td>\n",
       "      <td>1.0</td>\n",
       "      <td>0.0</td>\n",
       "      <td>3.0</td>\n",
       "      <td>100.0</td>\n",
       "      <td>1.0</td>\n",
       "      <td>0.0</td>\n",
       "      <td>0.0</td>\n",
       "      <td>0.0</td>\n",
       "      <td>1.0</td>\n",
       "      <td>1.0</td>\n",
       "      <td>0.0</td>\n",
       "    </tr>\n",
       "  </tbody>\n",
       "</table>\n",
       "</div>"
      ],
      "text/plain": [
       "   avg_dist  avg_rating_by_driver  avg_rating_of_driver  avg_surge  surge_pct  \\\n",
       "0      0.77                   5.0                   4.3        1.0        0.0   \n",
       "\n",
       "   trips_in_first_30_days  weekday_pct  city_Astapor  city_King's Landing  \\\n",
       "0                     3.0        100.0           1.0                  0.0   \n",
       "\n",
       "   city_Winterfell  phone_Android  phone_iPhone  ultimate_black_user_False  \\\n",
       "0              0.0            0.0           1.0                        1.0   \n",
       "\n",
       "   ultimate_black_user_True  \n",
       "0                       0.0  "
      ]
     },
     "execution_count": 56,
     "metadata": {},
     "output_type": "execute_result"
    }
   ],
   "source": [
    "ex_user = pd.DataFrame([0.77, 5., 4.3, 1., 0., 3., 100.,\n",
    "          1., 0., 0., 0., 1., 1., 0.])\n",
    "ex_user = ex_user.T\n",
    "ex_user.columns = df_encoded.columns\n",
    "ex_user"
   ]
  },
  {
   "cell_type": "markdown",
   "metadata": {},
   "source": [
    "So, with the following features, the user will not retain after 6 months at 10.38% chance of retaining."
   ]
  },
  {
   "cell_type": "code",
   "execution_count": 57,
   "metadata": {},
   "outputs": [
    {
     "name": "stdout",
     "output_type": "stream",
     "text": [
      "Customer will retain: [[False]] [[ 0.1423932]]\n"
     ]
    }
   ],
   "source": [
    "# Making prediction for given values\n",
    "new_prediction = classifier.predict(\n",
    "    sc.transform(np.array(ex_user.values)))\n",
    "new_prediction_tf = (new_prediction > 0.5)\n",
    "print('Customer will retain:', new_prediction_tf, new_prediction)"
   ]
  },
  {
   "cell_type": "markdown",
   "metadata": {},
   "source": [
    "### Evaluating and Tuning the Neural Network\n",
    "\n",
    "#### Evaluating the Neural Network\n",
    "What is new now is that we will use k-fold cross validation to improve our test set accuracy. To do this, we use scikit-learn's cross val score. We also use keras.wrappers to wrap scikit learn around keras."
   ]
  },
  {
   "cell_type": "code",
   "execution_count": 58,
   "metadata": {
    "collapsed": true
   },
   "outputs": [],
   "source": [
    "# Importing packages and building new classifer with cross validation\n",
    "from keras.wrappers.scikit_learn import KerasClassifier\n",
    "from sklearn.model_selection import cross_val_score\n",
    "from keras.models import Sequential\n",
    "from keras.layers import Dense\n",
    "def build_classifier():\n",
    "    classifier = Sequential()\n",
    "    classifier.add(Dense(units = 7, kernel_initializer = 'uniform', activation = 'relu', input_dim = 14))\n",
    "    classifier.add(Dense(units = 7, kernel_initializer = 'uniform', activation = 'relu'))\n",
    "    classifier.add(Dense(units = 1, kernel_initializer = 'uniform', activation = 'sigmoid'))\n",
    "    classifier.compile(optimizer = 'adam', loss = 'binary_crossentropy', metrics = ['accuracy'])\n",
    "    return classifier"
   ]
  },
  {
   "cell_type": "code",
   "execution_count": 59,
   "metadata": {},
   "outputs": [
    {
     "name": "stdout",
     "output_type": "stream",
     "text": [
      "Epoch 1/10\n",
      "36000/36000 [==============================] - 2s - loss: 0.5502 - acc: 0.7242     \n",
      "Epoch 2/10\n",
      "36000/36000 [==============================] - 2s - loss: 0.5152 - acc: 0.7490     \n",
      "Epoch 3/10\n",
      "36000/36000 [==============================] - 2s - loss: 0.5066 - acc: 0.7568     \n",
      "Epoch 4/10\n",
      "36000/36000 [==============================] - 2s - loss: 0.5017 - acc: 0.7605     \n",
      "Epoch 5/10\n",
      "36000/36000 [==============================] - 2s - loss: 0.4964 - acc: 0.7647     \n",
      "Epoch 6/10\n",
      "36000/36000 [==============================] - 2s - loss: 0.4923 - acc: 0.7678     \n",
      "Epoch 7/10\n",
      "36000/36000 [==============================] - 2s - loss: 0.4905 - acc: 0.7701     \n",
      "Epoch 8/10\n",
      "36000/36000 [==============================] - 2s - loss: 0.4892 - acc: 0.7706     \n",
      "Epoch 9/10\n",
      "36000/36000 [==============================] - 2s - loss: 0.4886 - acc: 0.7701     \n",
      "Epoch 10/10\n",
      "36000/36000 [==============================] - 2s - loss: 0.4879 - acc: 0.7714     \n",
      "2976/4000 [=====================>........] - ETA: 0sEpoch 1/10\n",
      "36000/36000 [==============================] - 2s - loss: 0.5681 - acc: 0.7113     \n",
      "Epoch 2/10\n",
      "36000/36000 [==============================] - 2s - loss: 0.5238 - acc: 0.7517     \n",
      "Epoch 3/10\n",
      "36000/36000 [==============================] - 2s - loss: 0.5049 - acc: 0.7626     \n",
      "Epoch 4/10\n",
      "36000/36000 [==============================] - 2s - loss: 0.4966 - acc: 0.7679     \n",
      "Epoch 5/10\n",
      "36000/36000 [==============================] - 2s - loss: 0.4929 - acc: 0.7698     \n",
      "Epoch 6/10\n",
      "36000/36000 [==============================] - 2s - loss: 0.4904 - acc: 0.7711     \n",
      "Epoch 7/10\n",
      "36000/36000 [==============================] - 2s - loss: 0.4873 - acc: 0.7724     \n",
      "Epoch 8/10\n",
      "36000/36000 [==============================] - 2s - loss: 0.4859 - acc: 0.7736     \n",
      "Epoch 9/10\n",
      "36000/36000 [==============================] - 2s - loss: 0.4845 - acc: 0.7732     \n",
      "Epoch 10/10\n",
      "36000/36000 [==============================] - 2s - loss: 0.4837 - acc: 0.7746     \n",
      "3072/4000 [======================>.......] - ETA: 0sEpoch 1/10\n",
      "36000/36000 [==============================] - 2s - loss: 0.5438 - acc: 0.7298     \n",
      "Epoch 2/10\n",
      "36000/36000 [==============================] - 2s - loss: 0.5029 - acc: 0.7614     \n",
      "Epoch 3/10\n",
      "36000/36000 [==============================] - 2s - loss: 0.4937 - acc: 0.7689     \n",
      "Epoch 4/10\n",
      "36000/36000 [==============================] - 2s - loss: 0.4905 - acc: 0.7699     \n",
      "Epoch 5/10\n",
      "36000/36000 [==============================] - 2s - loss: 0.4884 - acc: 0.7716     \n",
      "Epoch 6/10\n",
      "36000/36000 [==============================] - 2s - loss: 0.4872 - acc: 0.7724     \n",
      "Epoch 7/10\n",
      "36000/36000 [==============================] - 2s - loss: 0.4862 - acc: 0.7732     \n",
      "Epoch 8/10\n",
      "36000/36000 [==============================] - 2s - loss: 0.4851 - acc: 0.7747     \n",
      "Epoch 9/10\n",
      "36000/36000 [==============================] - 2s - loss: 0.4840 - acc: 0.7743     \n",
      "Epoch 10/10\n",
      "36000/36000 [==============================] - 2s - loss: 0.4839 - acc: 0.7752     \n",
      "2736/4000 [===================>..........] - ETA: 0sEpoch 1/10\n",
      "36000/36000 [==============================] - 2s - loss: 0.5555 - acc: 0.7217     \n",
      "Epoch 2/10\n",
      "36000/36000 [==============================] - 2s - loss: 0.5215 - acc: 0.7452     \n",
      "Epoch 3/10\n",
      "36000/36000 [==============================] - 2s - loss: 0.5135 - acc: 0.7503     \n",
      "Epoch 4/10\n",
      "36000/36000 [==============================] - 2s - loss: 0.5075 - acc: 0.7568     \n",
      "Epoch 5/10\n",
      "36000/36000 [==============================] - 2s - loss: 0.5017 - acc: 0.7619     \n",
      "Epoch 6/10\n",
      "36000/36000 [==============================] - 2s - loss: 0.4992 - acc: 0.7636     \n",
      "Epoch 7/10\n",
      "36000/36000 [==============================] - 2s - loss: 0.4978 - acc: 0.7650     \n",
      "Epoch 8/10\n",
      "36000/36000 [==============================] - 2s - loss: 0.4968 - acc: 0.7654     \n",
      "Epoch 9/10\n",
      "36000/36000 [==============================] - 2s - loss: 0.4962 - acc: 0.7664     \n",
      "Epoch 10/10\n",
      "36000/36000 [==============================] - 2s - loss: 0.4951 - acc: 0.7677     \n",
      "2928/4000 [====================>.........] - ETA: 0sEpoch 1/10\n",
      "36000/36000 [==============================] - 2s - loss: 0.5537 - acc: 0.7251     \n",
      "Epoch 2/10\n",
      "36000/36000 [==============================] - 2s - loss: 0.5161 - acc: 0.7502     \n",
      "Epoch 3/10\n",
      "36000/36000 [==============================] - 2s - loss: 0.5059 - acc: 0.7570     \n",
      "Epoch 4/10\n",
      "36000/36000 [==============================] - 2s - loss: 0.4960 - acc: 0.7651     \n",
      "Epoch 5/10\n",
      "36000/36000 [==============================] - 2s - loss: 0.4891 - acc: 0.7678     \n",
      "Epoch 6/10\n",
      "36000/36000 [==============================] - 2s - loss: 0.4874 - acc: 0.7706     \n",
      "Epoch 7/10\n",
      "36000/36000 [==============================] - 2s - loss: 0.4861 - acc: 0.7721     \n",
      "Epoch 8/10\n",
      "36000/36000 [==============================] - 2s - loss: 0.4853 - acc: 0.7711     \n",
      "Epoch 9/10\n",
      "36000/36000 [==============================] - 2s - loss: 0.4842 - acc: 0.7727     \n",
      "Epoch 10/10\n",
      "36000/36000 [==============================] - 2s - loss: 0.4830 - acc: 0.7740     \n",
      "3104/4000 [======================>.......] - ETA: 0sEpoch 1/10\n",
      "36000/36000 [==============================] - 2s - loss: 0.5480 - acc: 0.7291     \n",
      "Epoch 2/10\n",
      "36000/36000 [==============================] - 2s - loss: 0.5107 - acc: 0.7529     \n",
      "Epoch 3/10\n",
      "36000/36000 [==============================] - 2s - loss: 0.4973 - acc: 0.7637     \n",
      "Epoch 4/10\n",
      "36000/36000 [==============================] - 2s - loss: 0.4905 - acc: 0.7695     \n",
      "Epoch 5/10\n",
      "36000/36000 [==============================] - 2s - loss: 0.4883 - acc: 0.7711     \n",
      "Epoch 6/10\n",
      "36000/36000 [==============================] - 2s - loss: 0.4870 - acc: 0.7720     \n",
      "Epoch 7/10\n",
      "36000/36000 [==============================] - 2s - loss: 0.4859 - acc: 0.7718     \n",
      "Epoch 8/10\n",
      "36000/36000 [==============================] - 2s - loss: 0.4855 - acc: 0.7736     \n",
      "Epoch 9/10\n",
      "36000/36000 [==============================] - 2s - loss: 0.4852 - acc: 0.7731     \n",
      "Epoch 10/10\n",
      "36000/36000 [==============================] - 2s - loss: 0.4845 - acc: 0.7742     \n",
      "2960/4000 [=====================>........] - ETA: 0sEpoch 1/10\n",
      "36000/36000 [==============================] - 2s - loss: 0.5529 - acc: 0.7210     \n",
      "Epoch 2/10\n",
      "36000/36000 [==============================] - 2s - loss: 0.5119 - acc: 0.7547     \n",
      "Epoch 3/10\n",
      "36000/36000 [==============================] - 2s - loss: 0.4982 - acc: 0.7646     \n",
      "Epoch 4/10\n",
      "36000/36000 [==============================] - 2s - loss: 0.4937 - acc: 0.7690     \n",
      "Epoch 5/10\n",
      "36000/36000 [==============================] - 2s - loss: 0.4913 - acc: 0.7686     \n",
      "Epoch 6/10\n",
      "36000/36000 [==============================] - 2s - loss: 0.4906 - acc: 0.7710     \n",
      "Epoch 7/10\n",
      "36000/36000 [==============================] - 2s - loss: 0.4892 - acc: 0.7704     \n",
      "Epoch 8/10\n",
      "36000/36000 [==============================] - 2s - loss: 0.4886 - acc: 0.7719     \n",
      "Epoch 9/10\n",
      "36000/36000 [==============================] - 2s - loss: 0.4876 - acc: 0.7724     \n",
      "Epoch 10/10\n",
      "36000/36000 [==============================] - 2s - loss: 0.4872 - acc: 0.7739     \n",
      "3216/4000 [=======================>......] - ETA: 0sEpoch 1/10\n",
      "36000/36000 [==============================] - 2s - loss: 0.5501 - acc: 0.7247     \n",
      "Epoch 2/10\n",
      "36000/36000 [==============================] - 2s - loss: 0.5030 - acc: 0.7609     \n",
      "Epoch 3/10\n",
      "36000/36000 [==============================] - 2s - loss: 0.4932 - acc: 0.7673     \n",
      "Epoch 4/10\n",
      "36000/36000 [==============================] - 2s - loss: 0.4902 - acc: 0.7716     \n",
      "Epoch 5/10\n",
      "36000/36000 [==============================] - 2s - loss: 0.4886 - acc: 0.7718     \n",
      "Epoch 6/10\n",
      "36000/36000 [==============================] - 2s - loss: 0.4888 - acc: 0.7729     \n",
      "Epoch 7/10\n",
      "36000/36000 [==============================] - 2s - loss: 0.4881 - acc: 0.7710     \n",
      "Epoch 8/10\n",
      "36000/36000 [==============================] - 2s - loss: 0.4879 - acc: 0.7726     \n",
      "Epoch 9/10\n",
      "36000/36000 [==============================] - 2s - loss: 0.4873 - acc: 0.7724     \n",
      "Epoch 10/10\n",
      "36000/36000 [==============================] - 2s - loss: 0.4870 - acc: 0.7732     \n",
      "2832/4000 [====================>.........] - ETA: 0sEpoch 1/10\n",
      "36000/36000 [==============================] - 2s - loss: 0.5546 - acc: 0.7230     \n",
      "Epoch 2/10\n"
     ]
    },
    {
     "name": "stdout",
     "output_type": "stream",
     "text": [
      "36000/36000 [==============================] - 2s - loss: 0.5185 - acc: 0.7486     \n",
      "Epoch 3/10\n",
      "36000/36000 [==============================] - 2s - loss: 0.5015 - acc: 0.7621     \n",
      "Epoch 4/10\n",
      "36000/36000 [==============================] - 2s - loss: 0.4966 - acc: 0.7662     \n",
      "Epoch 5/10\n",
      "36000/36000 [==============================] - 2s - loss: 0.4938 - acc: 0.7676     \n",
      "Epoch 6/10\n",
      "36000/36000 [==============================] - 2s - loss: 0.4918 - acc: 0.7694     \n",
      "Epoch 7/10\n",
      "36000/36000 [==============================] - 2s - loss: 0.4909 - acc: 0.7699     \n",
      "Epoch 8/10\n",
      "36000/36000 [==============================] - 2s - loss: 0.4896 - acc: 0.7716     \n",
      "Epoch 9/10\n",
      "36000/36000 [==============================] - 2s - loss: 0.4887 - acc: 0.7711     \n",
      "Epoch 10/10\n",
      "36000/36000 [==============================] - 2s - loss: 0.4881 - acc: 0.7725     \n",
      "2944/4000 [=====================>........] - ETA: 0sEpoch 1/10\n",
      "36000/36000 [==============================] - 2s - loss: 0.5669 - acc: 0.7135     \n",
      "Epoch 2/10\n",
      "36000/36000 [==============================] - 2s - loss: 0.5227 - acc: 0.7507     \n",
      "Epoch 3/10\n",
      "36000/36000 [==============================] - 2s - loss: 0.5033 - acc: 0.7640     \n",
      "Epoch 4/10\n",
      "36000/36000 [==============================] - 2s - loss: 0.4971 - acc: 0.7654     \n",
      "Epoch 5/10\n",
      "36000/36000 [==============================] - 2s - loss: 0.4940 - acc: 0.7689     \n",
      "Epoch 6/10\n",
      "36000/36000 [==============================] - 2s - loss: 0.4912 - acc: 0.7712     \n",
      "Epoch 7/10\n",
      "36000/36000 [==============================] - 2s - loss: 0.4884 - acc: 0.7730     \n",
      "Epoch 8/10\n",
      "36000/36000 [==============================] - 2s - loss: 0.4871 - acc: 0.7735     \n",
      "Epoch 9/10\n",
      "36000/36000 [==============================] - 2s - loss: 0.4859 - acc: 0.7740     \n",
      "Epoch 10/10\n",
      "36000/36000 [==============================] - 2s - loss: 0.4847 - acc: 0.7742     \n",
      "2768/4000 [===================>..........] - ETA: 0s"
     ]
    }
   ],
   "source": [
    "# Fitting Neural Network to Training set and getting accuracies\n",
    "classifier = KerasClassifier(build_fn = build_classifier, batch_size = 16, epochs = 10)\n",
    "accuracies = cross_val_score(estimator = classifier, X = X_train, y = y_train, cv = 10)"
   ]
  },
  {
   "cell_type": "code",
   "execution_count": 67,
   "metadata": {},
   "outputs": [
    {
     "name": "stdout",
     "output_type": "stream",
     "text": [
      "Average:  0.7720\n",
      "Standard Deviation:  0.0078\n"
     ]
    }
   ],
   "source": [
    "mean = accuracies.mean()\n",
    "variance = accuracies.std()\n",
    "print('Average: ', ('%.4f' % mean))\n",
    "print('Standard Deviation: ', ('%.4f' % variance))"
   ]
  },
  {
   "cell_type": "markdown",
   "metadata": {},
   "source": [
    "### Tuning the Neural Network\n",
    "\n",
    "To finally tune our neural network, we use grid search to tune our hyper parameters such as batch size and epochs."
   ]
  },
  {
   "cell_type": "code",
   "execution_count": 60,
   "metadata": {
    "collapsed": true
   },
   "outputs": [],
   "source": [
    "# Importing packages and building new classifer with grid search\n",
    "from keras.wrappers.scikit_learn import KerasClassifier\n",
    "from sklearn.model_selection import GridSearchCV\n",
    "from keras.models import Sequential\n",
    "from keras.layers import Dense"
   ]
  },
  {
   "cell_type": "code",
   "execution_count": 61,
   "metadata": {
    "collapsed": true
   },
   "outputs": [],
   "source": [
    "# Building our Neural Network with empty optimizer, batch size, and epochs\n",
    "def build_classifier(optimizer):\n",
    "    classifier = Sequential()\n",
    "    classifier.add(Dense(units = 7, kernel_initializer = 'uniform', activation = 'relu', input_dim = 14))\n",
    "    classifier.add(Dense(units = 7, kernel_initializer = 'uniform', activation = 'relu'))\n",
    "    classifier.add(Dense(units = 1, kernel_initializer = 'uniform', activation = 'sigmoid'))\n",
    "    classifier.compile(optimizer = optimizer, loss = 'binary_crossentropy', metrics = ['accuracy'])\n",
    "    return classifier\n",
    "classifier = KerasClassifier(build_fn = build_classifier)"
   ]
  },
  {
   "cell_type": "code",
   "execution_count": 62,
   "metadata": {
    "collapsed": true
   },
   "outputs": [],
   "source": [
    "# Parameters for batch size, epochs, and optimizer functions\n",
    "parameters = {'batch_size': [16, 32],\n",
    "              'epochs': [10, 50],\n",
    "              'optimizer': ['adam', 'rmsprop']}"
   ]
  },
  {
   "cell_type": "code",
   "execution_count": 63,
   "metadata": {},
   "outputs": [],
   "source": [
    "# Setting up Grid Search\n",
    "# grid_search = GridSearchCV(estimator = classifier,\n",
    "#                            param_grid = parameters,\n",
    "#                            scoring = 'accuracy',\n",
    "#                            cv = 10)\n",
    "# grid_search = grid_search.fit(X_train, y_train)\n",
    "# best_parameters = grid_search.best_params_\n",
    "# best_accuracy = grid_search.best_score_"
   ]
  },
  {
   "cell_type": "code",
   "execution_count": 64,
   "metadata": {},
   "outputs": [],
   "source": [
    "# Getting our best parameters\n",
    "# best_parameters"
   ]
  },
  {
   "cell_type": "code",
   "execution_count": 65,
   "metadata": {},
   "outputs": [],
   "source": [
    "# Getting our best average\n",
    "# print('Best average: ', ('%.4f' % best_accuracy))"
   ]
  },
  {
   "cell_type": "code",
   "execution_count": 66,
   "metadata": {},
   "outputs": [
    {
     "data": {
      "text/plain": [
       "retained                     1.000000\n",
       "city_King's Landing          0.262284\n",
       "phone_iPhone                 0.225464\n",
       "trips_in_first_30_days       0.210463\n",
       "ultimate_black_user_True     0.205002\n",
       "surge_pct                    0.011797\n",
       "weekday_pct                  0.009693\n",
       "avg_surge                   -0.003333\n",
       "avg_rating_of_driver        -0.010829\n",
       "avg_rating_by_driver        -0.026748\n",
       "city_Winterfell             -0.046611\n",
       "avg_dist                    -0.092780\n",
       "city_Astapor                -0.174655\n",
       "ultimate_black_user_False   -0.205002\n",
       "phone_Android               -0.225464\n",
       "Name: retained, dtype: float64"
      ]
     },
     "execution_count": 66,
     "metadata": {},
     "output_type": "execute_result"
    }
   ],
   "source": [
    "retained = pd.DataFrame(y)\n",
    "retained.columns = ['retained']\n",
    "pd.concat([df_encoded, retained],\n",
    "          axis=1).corr().iloc[14].sort_values(\n",
    "    ascending=False)"
   ]
  },
  {
   "cell_type": "markdown",
   "metadata": {},
   "source": [
    "## Conclusion\n",
    "\n",
    "The features most correlated to retention are: Users in King's landing, iPhone users, and high trips in first 30 days. \n",
    "\n",
    "In order for Ultimate to further improve retention rates, they should look into what is different in King's landing compared to other cities. They should also test usability between iPhone and Android to see if retention is related to features in the app or something else. Finally, taking many trips in the first 30 days is beneficial to retention rates. Ultimate could give out more promotions for first-time users to gain consumer loyalty."
   ]
  },
  {
   "cell_type": "code",
   "execution_count": null,
   "metadata": {
    "collapsed": true
   },
   "outputs": [],
   "source": []
  }
 ],
 "metadata": {
  "kernelspec": {
   "display_name": "Python 3",
   "language": "python",
   "name": "python3"
  },
  "language_info": {
   "codemirror_mode": {
    "name": "ipython",
    "version": 3
   },
   "file_extension": ".py",
   "mimetype": "text/x-python",
   "name": "python",
   "nbconvert_exporter": "python",
   "pygments_lexer": "ipython3",
   "version": "3.6.1"
  }
 },
 "nbformat": 4,
 "nbformat_minor": 2
}
